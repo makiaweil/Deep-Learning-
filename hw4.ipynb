{
 "cells": [
  {
   "cell_type": "markdown",
   "metadata": {},
   "source": [
    "## ECBM E6040 Homework 4 - Programming Problem"
   ]
  },
  {
   "cell_type": "code",
   "execution_count": 1,
   "metadata": {
    "collapsed": false
   },
   "outputs": [
    {
     "name": "stderr",
     "output_type": "stream",
     "text": [
      "/home/ubuntu/miniconda2/envs/theano/lib/python2.7/site-packages/matplotlib/font_manager.py:273: UserWarning: Matplotlib is building the font cache using fc-list. This may take a moment.\n",
      "  warnings.warn('Matplotlib is building the font cache using fc-list. This may take a moment.')\n"
     ]
    }
   ],
   "source": [
    "import matplotlib\n",
    "import pylab\n",
    "%matplotlib inline"
   ]
  },
  {
   "cell_type": "markdown",
   "metadata": {},
   "source": [
    "### Problem a: Recurrent Neural Network\n",
    "\n",
    "The default parameters are \n",
    "\n",
    "normal: True\n",
    "win: 7\n",
    "fold: 3\n",
    "emb_dimension: 50\n",
    "nepochs: 10\n",
    "nhidden: 200\n",
    "decay: True\n",
    "lr: 0.0970806646813\n",
    "\n",
    "#### Bullet 1: Experiment with RNNSLU"
   ]
  },
  {
   "cell_type": "markdown",
   "metadata": {},
   "source": [
    "win=7,nhidden=200,emb_dimension=50 (default parameters)\n",
    "\n",
    "Accuracy : 91.27%"
   ]
  },
  {
   "cell_type": "code",
   "execution_count": 1,
   "metadata": {
    "collapsed": false,
    "scrolled": true
   },
   "outputs": [
    {
     "name": "stdout",
     "output_type": "stream",
     "text": [
      "verbose: True\n",
      "normal: True\n",
      "win: 7\n",
      "savemodel: False\n",
      "fold: 3\n",
      "seed: 345\n",
      "emb_dimension: 50\n",
      "nepochs: 10\n",
      "nhidden: 200\n",
      "decay: True\n",
      "lr: 0.0970806646813\n",
      "folder: ../result\n",
      "... loading the dataset\n",
      "... building the model\n",
      "... training\n",
      "NEW BEST: epoch 0 valid F1 68.18 best test F1 66.22\n",
      "NEW BEST: epoch 1 valid F1 80.63 best test F1 77.98\n",
      "NEW BEST: epoch 2 valid F1 83.79 best test F1 80.66\n",
      "NEW BEST: epoch 3 valid F1 88.42 best test F1 84.92\n",
      "NEW BEST: epoch 4 valid F1 89.65 best test F1 85.97\n",
      "NEW BEST: epoch 5 valid F1 91.02 best test F1 86.87\n",
      "NEW BEST: epoch 6 valid F1 91.45 best test F1 88.81\n",
      "NEW BEST: epoch 7 valid F1 92.05 best test F1 89.89\n",
      "NEW BEST: epoch 8 valid F1 93.78 best test F1 90.69\n",
      "NEW BEST: epoch 9 valid F1 94.19 best test F1 91.27\n",
      "BEST RESULT: epoch 9 valid F1 94.19 best test F1 91.27 with the model ../result\n"
     ]
    }
   ],
   "source": [
    "from hw4a import test_rnnslu\n",
    "test_rnnslu()\n"
   ]
  },
  {
   "cell_type": "markdown",
   "metadata": {},
   "source": [
    "win=11,nhidden=200,emb_dimension=50\n",
    "\n",
    "Accuracy : 91.84%\n"
   ]
  },
  {
   "cell_type": "code",
   "execution_count": 6,
   "metadata": {
    "collapsed": false
   },
   "outputs": [
    {
     "name": "stdout",
     "output_type": "stream",
     "text": [
      "verbose: True\n",
      "normal: True\n",
      "win: 11\n",
      "savemodel: False\n",
      "fold: 3\n",
      "seed: 345\n",
      "emb_dimension: 50\n",
      "nepochs: 10\n",
      "nhidden: 200\n",
      "decay: True\n",
      "lr: 0.0970806646813\n",
      "folder: ../result\n",
      "... loading the dataset\n",
      "... building the model\n",
      "... training\n",
      "NEW BEST: epoch 0 valid F1 68.68 best test F1 65.09\n",
      "NEW BEST: epoch 1 valid F1 79.2 best test F1 76.16\n",
      "NEW BEST: epoch 2 valid F1 83.23 best test F1 80.23\n",
      "NEW BEST: epoch 3 valid F1 87.24 best test F1 84.0\n",
      "NEW BEST: epoch 4 valid F1 89.16 best test F1 85.52\n",
      "NEW BEST: epoch 5 valid F1 91.31 best test F1 86.94\n",
      "NEW BEST: epoch 6 valid F1 91.94 best test F1 88.44\n",
      "NEW BEST: epoch 7 valid F1 93.64 best test F1 90.68\n",
      "NEW BEST: epoch 8 valid F1 94.0 best test F1 90.7\n",
      "NEW BEST: epoch 9 valid F1 94.7 best test F1 91.84\n",
      "BEST RESULT: epoch 9 valid F1 94.7 best test F1 91.84 with the model ../result\n"
     ]
    }
   ],
   "source": [
    "test_rnnslu(win=11)"
   ]
  },
  {
   "cell_type": "markdown",
   "metadata": {},
   "source": [
    "win=7,nhidden=100,emb_dimension=50\n",
    "\n",
    "Accuracy : 89.86%\n"
   ]
  },
  {
   "cell_type": "code",
   "execution_count": 7,
   "metadata": {
    "collapsed": false
   },
   "outputs": [
    {
     "name": "stdout",
     "output_type": "stream",
     "text": [
      "verbose: True\n",
      "normal: True\n",
      "win: 7\n",
      "savemodel: False\n",
      "fold: 3\n",
      "seed: 345\n",
      "emb_dimension: 50\n",
      "nepochs: 10\n",
      "nhidden: 100\n",
      "decay: True\n",
      "lr: 0.0970806646813\n",
      "folder: ../result\n",
      "... loading the dataset\n",
      "... building the model\n",
      "... training\n",
      "NEW BEST: epoch 0 valid F1 63.39 best test F1 60.51\n",
      "NEW BEST: epoch 1 valid F1 75.46 best test F1 72.37\n",
      "NEW BEST: epoch 2 valid F1 80.34 best test F1 77.06\n",
      "NEW BEST: epoch 3 valid F1 83.89 best test F1 80.94\n",
      "NEW BEST: epoch 4 valid F1 85.89 best test F1 82.83\n",
      "NEW BEST: epoch 5 valid F1 88.02 best test F1 84.35\n",
      "NEW BEST: epoch 6 valid F1 89.36 best test F1 85.14\n",
      "NEW BEST: epoch 7 valid F1 90.96 best test F1 87.83\n",
      "NEW BEST: epoch 8 valid F1 91.66 best test F1 88.68\n",
      "NEW BEST: epoch 9 valid F1 93.03 best test F1 89.86\n",
      "BEST RESULT: epoch 9 valid F1 93.03 best test F1 89.86 with the model ../result\n"
     ]
    }
   ],
   "source": [
    "test_rnnslu(nhidden=100)"
   ]
  },
  {
   "cell_type": "markdown",
   "metadata": {},
   "source": [
    "win=7,nhidden=200,emb_dimension=100\n",
    "\n",
    "Accuracy : 91.68%\n"
   ]
  },
  {
   "cell_type": "code",
   "execution_count": 8,
   "metadata": {
    "collapsed": false
   },
   "outputs": [
    {
     "name": "stdout",
     "output_type": "stream",
     "text": [
      "verbose: True\n",
      "normal: True\n",
      "win: 7\n",
      "savemodel: False\n",
      "fold: 3\n",
      "seed: 345\n",
      "emb_dimension: 100\n",
      "nepochs: 10\n",
      "nhidden: 200\n",
      "decay: True\n",
      "lr: 0.0970806646813\n",
      "folder: ../result\n",
      "... loading the dataset\n",
      "... building the model\n",
      "... training\n",
      "NEW BEST: epoch 0 valid F1 71.38 best test F1 67.54\n",
      "NEW BEST: epoch 1 valid F1 80.92 best test F1 78.33\n",
      "NEW BEST: epoch 2 valid F1 84.62 best test F1 81.62\n",
      "NEW BEST: epoch 3 valid F1 88.84 best test F1 84.9\n",
      "NEW BEST: epoch 4 valid F1 89.82 best test F1 85.98\n",
      "NEW BEST: epoch 5 valid F1 91.63 best test F1 87.86\n",
      "NEW BEST: epoch 6 valid F1 91.87 best test F1 88.64\n",
      "NEW BEST: epoch 7 valid F1 93.08 best test F1 90.58\n",
      "NEW BEST: epoch 8 valid F1 94.16 best test F1 92.0\n",
      "NEW BEST: epoch 9 valid F1 94.44 best test F1 91.68\n",
      "BEST RESULT: epoch 9 valid F1 94.44 best test F1 91.68 with the model ../result\n"
     ]
    }
   ],
   "source": [
    "test_rnnslu(emb_dimension=100)"
   ]
  },
  {
   "cell_type": "markdown",
   "metadata": {},
   "source": [
    "win=7,nhidden=100,emb_dimension=100\n",
    "\n",
    "Accuracy : 89.79%\n"
   ]
  },
  {
   "cell_type": "code",
   "execution_count": 9,
   "metadata": {
    "collapsed": false
   },
   "outputs": [
    {
     "name": "stdout",
     "output_type": "stream",
     "text": [
      "verbose: True\n",
      "normal: True\n",
      "win: 7\n",
      "savemodel: False\n",
      "fold: 3\n",
      "seed: 345\n",
      "emb_dimension: 100\n",
      "nepochs: 10\n",
      "nhidden: 100\n",
      "decay: True\n",
      "lr: 0.0970806646813\n",
      "folder: ../result\n",
      "... loading the dataset\n",
      "... building the model\n",
      "... training\n",
      "NEW BEST: epoch 0 valid F1 65.69 best test F1 64.54\n",
      "NEW BEST: epoch 1 valid F1 78.7 best test F1 75.28\n",
      "NEW BEST: epoch 2 valid F1 82.24 best test F1 78.71\n",
      "NEW BEST: epoch 3 valid F1 85.0 best test F1 81.97\n",
      "NEW BEST: epoch 4 valid F1 87.45 best test F1 84.75\n",
      "NEW BEST: epoch 5 valid F1 89.05 best test F1 85.85\n",
      "NEW BEST: epoch 6 valid F1 90.29 best test F1 87.16\n",
      "NEW BEST: epoch 7 valid F1 91.83 best test F1 88.9\n",
      "NEW BEST: epoch 8 valid F1 92.7 best test F1 89.67\n",
      "NEW BEST: epoch 9 valid F1 93.32 best test F1 89.79\n",
      "BEST RESULT: epoch 9 valid F1 93.32 best test F1 89.79 with the model ../result\n"
     ]
    }
   ],
   "source": [
    "test_rnnslu(emb_dimension=100,nhidden=100)"
   ]
  },
  {
   "cell_type": "markdown",
   "metadata": {},
   "source": [
    "win=11,nhidden=200,emb_dimension=100\n",
    "\n",
    "Accuracy : 91.93%\n"
   ]
  },
  {
   "cell_type": "code",
   "execution_count": 10,
   "metadata": {
    "collapsed": false
   },
   "outputs": [
    {
     "name": "stdout",
     "output_type": "stream",
     "text": [
      "verbose: True\n",
      "normal: True\n",
      "win: 11\n",
      "savemodel: False\n",
      "fold: 3\n",
      "seed: 345\n",
      "emb_dimension: 100\n",
      "nepochs: 10\n",
      "nhidden: 200\n",
      "decay: True\n",
      "lr: 0.0970806646813\n",
      "folder: ../result\n",
      "... loading the dataset\n",
      "... building the model\n",
      "... training\n",
      "NEW BEST: epoch 0 valid F1 72.03 best test F1 68.45\n",
      "NEW BEST: epoch 1 valid F1 81.95 best test F1 78.49\n",
      "NEW BEST: epoch 2 valid F1 85.32 best test F1 81.49\n",
      "NEW BEST: epoch 3 valid F1 88.74 best test F1 85.34\n",
      "NEW BEST: epoch 4 valid F1 90.88 best test F1 87.48\n",
      "NEW BEST: epoch 5 valid F1 91.85 best test F1 88.25\n",
      "NEW BEST: epoch 6 valid F1 92.65 best test F1 89.55\n",
      "NEW BEST: epoch 7 valid F1 94.13 best test F1 90.85\n",
      "NEW BEST: epoch 8 valid F1 94.42 best test F1 91.57\n",
      "NEW BEST: epoch 9 valid F1 94.69 best test F1 91.93\n",
      "BEST RESULT: epoch 9 valid F1 94.69 best test F1 91.93 with the model ../result\n"
     ]
    }
   ],
   "source": [
    "test_rnnslu(emb_dimension=100,win=11)"
   ]
  },
  {
   "cell_type": "markdown",
   "metadata": {},
   "source": [
    "win=11,nhidden=100,emb_dimension=100\n",
    "\n",
    "Accuracy : 90.37%\n"
   ]
  },
  {
   "cell_type": "code",
   "execution_count": 11,
   "metadata": {
    "collapsed": false
   },
   "outputs": [
    {
     "name": "stdout",
     "output_type": "stream",
     "text": [
      "verbose: True\n",
      "normal: True\n",
      "win: 11\n",
      "savemodel: False\n",
      "fold: 3\n",
      "seed: 345\n",
      "emb_dimension: 100\n",
      "nepochs: 10\n",
      "nhidden: 100\n",
      "decay: True\n",
      "lr: 0.0970806646813\n",
      "folder: ../result\n",
      "... loading the dataset\n",
      "... building the model\n",
      "... training\n",
      "NEW BEST: epoch 0 valid F1 65.49 best test F1 63.13\n",
      "NEW BEST: epoch 1 valid F1 77.07 best test F1 74.83\n",
      "NEW BEST: epoch 2 valid F1 82.06 best test F1 78.65\n",
      "NEW BEST: epoch 3 valid F1 84.71 best test F1 82.04\n",
      "NEW BEST: epoch 4 valid F1 87.14 best test F1 84.52\n",
      "NEW BEST: epoch 5 valid F1 88.9 best test F1 85.91\n",
      "NEW BEST: epoch 6 valid F1 89.22 best test F1 85.56\n",
      "NEW BEST: epoch 7 valid F1 91.52 best test F1 88.88\n",
      "NEW BEST: epoch 8 valid F1 92.22 best test F1 89.33\n",
      "NEW BEST: epoch 9 valid F1 93.45 best test F1 90.37\n",
      "BEST RESULT: epoch 9 valid F1 93.45 best test F1 90.37 with the model ../result\n"
     ]
    }
   ],
   "source": [
    "test_rnnslu(emb_dimension=100,win=11,nhidden=100)"
   ]
  },
  {
   "cell_type": "markdown",
   "metadata": {},
   "source": [
    "win=11,nhidden=100,emb_dimension=50\n",
    "\n",
    "Accuracy : 90.09%\n",
    "\n"
   ]
  },
  {
   "cell_type": "code",
   "execution_count": null,
   "metadata": {
    "collapsed": false
   },
   "outputs": [
    {
     "name": "stdout",
     "output_type": "stream",
     "text": [
      "verbose: True\n",
      "normal: True\n",
      "win: 11\n",
      "savemodel: False\n",
      "fold: 3\n",
      "seed: 345\n",
      "emb_dimension: 50\n",
      "nepochs: 10\n",
      "nhidden: 100\n",
      "decay: True\n",
      "lr: 0.0970806646813\n",
      "folder: ../result\n",
      "... loading the dataset\n",
      "... building the model\n",
      "... training\n",
      "NEW BEST: epoch 0 valid F1 61.86 best test F1 58.41\n",
      "NEW BEST: epoch 3 valid F1 84.51 best test F1 82.07\n",
      "NEW BEST: epoch 4 valid F1 86.6 best test F1 83.81\n",
      "NEW BEST: epoch 5 valid F1 88.51 best test F1 84.61\n",
      "NEW BEST: epoch 6 valid F1 89.53 best test F1 86.06\n",
      "NEW BEST: epoch 7 valid F1 91.0 best test F1 88.47\n",
      "NEW BEST: epoch 8 valid F1 91.78 best test F1 89.11\n",
      "NEW BEST: epoch 9 valid F1 92.71 best test F1 90.09\n",
      "BEST RESULT: epoch 9 valid F1 92.71 best test F1 90.09 with the model ../result\n"
     ]
    }
   ],
   "source": [
    "test_rnnslu(win=11,nhidden=100)"
   ]
  },
  {
   "cell_type": "markdown",
   "metadata": {},
   "source": [
    "We get better accuracy with a higher number of hidden neurons, a higher window size and a higher embeding dimension."
   ]
  },
  {
   "cell_type": "markdown",
   "metadata": {},
   "source": [
    "#### Bullet 2: Experiment with RNNSLU without normalizing word embeddings\n",
    "\n",
    "win=7,nhidden=200,emb_dimension=50\n",
    "\n",
    "Accuracy : 91.56%\n"
   ]
  },
  {
   "cell_type": "code",
   "execution_count": 2,
   "metadata": {
    "collapsed": false
   },
   "outputs": [
    {
     "name": "stdout",
     "output_type": "stream",
     "text": [
      "verbose: True\n",
      "normal: False\n",
      "win: 7\n",
      "savemodel: False\n",
      "fold: 3\n",
      "seed: 345\n",
      "emb_dimension: 50\n",
      "nepochs: 10\n",
      "nhidden: 200\n",
      "decay: True\n",
      "lr: 0.0970806646813\n",
      "folder: ../result\n",
      "... loading the dataset\n",
      "... building the model\n",
      "... training\n",
      "NEW BEST: epoch 0 valid F1 68.59 best test F1 66.65\n",
      "NEW BEST: epoch 1 valid F1 80.45 best test F1 77.65\n",
      "NEW BEST: epoch 2 valid F1 83.67 best test F1 80.35\n",
      "NEW BEST: epoch 3 valid F1 88.05 best test F1 84.08\n",
      "NEW BEST: epoch 4 valid F1 89.42 best test F1 86.0\n",
      "NEW BEST: epoch 5 valid F1 91.12 best test F1 86.69\n",
      "NEW BEST: epoch 6 valid F1 91.55 best test F1 88.62\n",
      "NEW BEST: epoch 7 valid F1 91.79 best test F1 89.73\n",
      "NEW BEST: epoch 8 valid F1 93.63 best test F1 90.55\n",
      "NEW BEST: epoch 9 valid F1 94.17 best test F1 91.56\n",
      "BEST RESULT: epoch 9 valid F1 94.17 best test F1 91.56 with the model ../result\n"
     ]
    }
   ],
   "source": [
    "test_rnnslu(normal=False)"
   ]
  },
  {
   "cell_type": "markdown",
   "metadata": {},
   "source": [
    "win=11,nhidden=200,emb_dimension=50\n",
    "\n",
    "Accuracy : 91.84%\n"
   ]
  },
  {
   "cell_type": "code",
   "execution_count": 3,
   "metadata": {
    "collapsed": false
   },
   "outputs": [
    {
     "name": "stdout",
     "output_type": "stream",
     "text": [
      "verbose: True\n",
      "normal: False\n",
      "win: 11\n",
      "savemodel: False\n",
      "fold: 3\n",
      "seed: 345\n",
      "emb_dimension: 50\n",
      "nepochs: 10\n",
      "nhidden: 200\n",
      "decay: True\n",
      "lr: 0.0970806646813\n",
      "folder: ../result\n",
      "... loading the dataset\n",
      "... building the model\n",
      "... training\n",
      "NEW BEST: epoch 0 valid F1 68.68 best test F1 65.09\n",
      "NEW BEST: epoch 1 valid F1 79.2 best test F1 76.16\n",
      "NEW BEST: epoch 2 valid F1 83.23 best test F1 80.23\n",
      "NEW BEST: epoch 3 valid F1 87.24 best test F1 84.0\n",
      "NEW BEST: epoch 4 valid F1 89.16 best test F1 85.52\n",
      "NEW BEST: epoch 5 valid F1 91.31 best test F1 86.94\n",
      "NEW BEST: epoch 6 valid F1 91.94 best test F1 88.44\n",
      "NEW BEST: epoch 7 valid F1 93.64 best test F1 90.68\n",
      "NEW BEST: epoch 8 valid F1 94.0 best test F1 90.7\n",
      "NEW BEST: epoch 9 valid F1 94.7 best test F1 91.84\n",
      "BEST RESULT: epoch 9 valid F1 94.7 best test F1 91.84 with the model ../result\n"
     ]
    }
   ],
   "source": [
    "test_rnnslu(win=11,normal=False)"
   ]
  },
  {
   "cell_type": "markdown",
   "metadata": {},
   "source": [
    "win=7,nhidden=100,emb_dimension=50\n",
    "\n",
    "Accuracy : 89.86%\n"
   ]
  },
  {
   "cell_type": "code",
   "execution_count": 4,
   "metadata": {
    "collapsed": false
   },
   "outputs": [
    {
     "name": "stdout",
     "output_type": "stream",
     "text": [
      "verbose: True\n",
      "normal: False\n",
      "win: 7\n",
      "savemodel: False\n",
      "fold: 3\n",
      "seed: 345\n",
      "emb_dimension: 50\n",
      "nepochs: 10\n",
      "nhidden: 100\n",
      "decay: True\n",
      "lr: 0.0970806646813\n",
      "folder: ../result\n",
      "... loading the dataset\n",
      "... building the model\n",
      "... training\n",
      "NEW BEST: epoch 0 valid F1 63.39 best test F1 60.51\n",
      "NEW BEST: epoch 1 valid F1 75.46 best test F1 72.37\n",
      "NEW BEST: epoch 2 valid F1 80.34 best test F1 77.06\n",
      "NEW BEST: epoch 3 valid F1 83.89 best test F1 80.94\n",
      "NEW BEST: epoch 4 valid F1 85.89 best test F1 82.83\n",
      "NEW BEST: epoch 5 valid F1 88.02 best test F1 84.35\n",
      "NEW BEST: epoch 6 valid F1 89.36 best test F1 85.14\n",
      "NEW BEST: epoch 7 valid F1 90.96 best test F1 87.83\n",
      "NEW BEST: epoch 8 valid F1 91.66 best test F1 88.68\n",
      "NEW BEST: epoch 9 valid F1 93.03 best test F1 89.86\n",
      "BEST RESULT: epoch 9 valid F1 93.03 best test F1 89.86 with the model ../result\n"
     ]
    }
   ],
   "source": [
    "test_rnnslu(nhidden=100,normal=False)"
   ]
  },
  {
   "cell_type": "markdown",
   "metadata": {},
   "source": [
    "win=7,nhidden=200,emb_dimension=100\n",
    "\n",
    "Accuracy : 91.59%\n"
   ]
  },
  {
   "cell_type": "code",
   "execution_count": 5,
   "metadata": {
    "collapsed": false
   },
   "outputs": [
    {
     "name": "stdout",
     "output_type": "stream",
     "text": [
      "verbose: True\n",
      "normal: False\n",
      "win: 7\n",
      "savemodel: False\n",
      "fold: 3\n",
      "seed: 345\n",
      "emb_dimension: 100\n",
      "nepochs: 10\n",
      "nhidden: 200\n",
      "decay: True\n",
      "lr: 0.0970806646813\n",
      "folder: ../result\n",
      "... loading the dataset\n",
      "... building the model\n",
      "... training\n",
      "NEW BEST: epoch 0 valid F1 71.37 best test F1 68.26\n",
      "NEW BEST: epoch 1 valid F1 82.0 best test F1 78.72\n",
      "NEW BEST: epoch 2 valid F1 84.79 best test F1 81.49\n",
      "NEW BEST: epoch 3 valid F1 88.82 best test F1 84.8\n",
      "NEW BEST: epoch 4 valid F1 89.88 best test F1 86.42\n",
      "NEW BEST: epoch 5 valid F1 91.64 best test F1 88.14\n",
      "NEW BEST: epoch 6 valid F1 91.69 best test F1 88.63\n",
      "NEW BEST: epoch 7 valid F1 93.18 best test F1 91.26\n",
      "NEW BEST: epoch 8 valid F1 94.04 best test F1 92.2\n",
      "NEW BEST: epoch 9 valid F1 94.27 best test F1 91.59\n",
      "BEST RESULT: epoch 9 valid F1 94.27 best test F1 91.59 with the model ../result\n"
     ]
    }
   ],
   "source": [
    "test_rnnslu(emb_dimension=100,normal=False)"
   ]
  },
  {
   "cell_type": "markdown",
   "metadata": {},
   "source": [
    "win=7,nhidden=100,emb_dimension=100\n",
    "\n",
    "Accuracy : 89.79%\n"
   ]
  },
  {
   "cell_type": "code",
   "execution_count": 6,
   "metadata": {
    "collapsed": false
   },
   "outputs": [
    {
     "name": "stdout",
     "output_type": "stream",
     "text": [
      "verbose: True\n",
      "normal: False\n",
      "win: 7\n",
      "savemodel: False\n",
      "fold: 3\n",
      "seed: 345\n",
      "emb_dimension: 100\n",
      "nepochs: 10\n",
      "nhidden: 100\n",
      "decay: True\n",
      "lr: 0.0970806646813\n",
      "folder: ../result\n",
      "... loading the dataset\n",
      "... building the model\n",
      "... training\n",
      "NEW BEST: epoch 0 valid F1 65.69 best test F1 64.54\n",
      "NEW BEST: epoch 1 valid F1 78.7 best test F1 75.28\n",
      "NEW BEST: epoch 2 valid F1 82.24 best test F1 78.71\n",
      "NEW BEST: epoch 3 valid F1 84.97 best test F1 81.9\n",
      "NEW BEST: epoch 4 valid F1 87.45 best test F1 84.75\n",
      "NEW BEST: epoch 5 valid F1 89.05 best test F1 85.85\n",
      "NEW BEST: epoch 6 valid F1 90.27 best test F1 87.16\n",
      "NEW BEST: epoch 7 valid F1 91.83 best test F1 88.9\n",
      "NEW BEST: epoch 8 valid F1 92.7 best test F1 89.67\n",
      "NEW BEST: epoch 9 valid F1 93.32 best test F1 89.79\n",
      "BEST RESULT: epoch 9 valid F1 93.32 best test F1 89.79 with the model ../result\n"
     ]
    }
   ],
   "source": [
    "test_rnnslu(emb_dimension=100,nhidden=100,normal=False)"
   ]
  },
  {
   "cell_type": "markdown",
   "metadata": {},
   "source": [
    "win=11,nhidden=200,emb_dimension=100\n",
    "\n",
    "Accuracy : 91.74%\n"
   ]
  },
  {
   "cell_type": "code",
   "execution_count": 7,
   "metadata": {
    "collapsed": false
   },
   "outputs": [
    {
     "name": "stdout",
     "output_type": "stream",
     "text": [
      "verbose: True\n",
      "normal: False\n",
      "win: 11\n",
      "savemodel: False\n",
      "fold: 3\n",
      "seed: 345\n",
      "emb_dimension: 100\n",
      "nepochs: 10\n",
      "nhidden: 200\n",
      "decay: True\n",
      "lr: 0.0970806646813\n",
      "folder: ../result\n",
      "... loading the dataset\n",
      "... building the model\n",
      "... training\n",
      "NEW BEST: epoch 0 valid F1 72.03 best test F1 68.45\n",
      "NEW BEST: epoch 1 valid F1 82.1 best test F1 78.44\n",
      "NEW BEST: epoch 2 valid F1 85.17 best test F1 81.66\n",
      "NEW BEST: epoch 3 valid F1 89.07 best test F1 85.71\n",
      "NEW BEST: epoch 4 valid F1 90.96 best test F1 87.43\n",
      "NEW BEST: epoch 5 valid F1 91.99 best test F1 88.25\n",
      "NEW BEST: epoch 6 valid F1 92.89 best test F1 89.74\n",
      "NEW BEST: epoch 7 valid F1 93.97 best test F1 90.94\n",
      "NEW BEST: epoch 8 valid F1 94.61 best test F1 91.59\n",
      "NEW BEST: epoch 9 valid F1 94.71 best test F1 91.74\n",
      "BEST RESULT: epoch 9 valid F1 94.71 best test F1 91.74 with the model ../result\n"
     ]
    }
   ],
   "source": [
    "test_rnnslu(emb_dimension=100,win=11,normal=False)"
   ]
  },
  {
   "cell_type": "markdown",
   "metadata": {},
   "source": [
    "win=11,nhidden=100,emb_dimension=100\n",
    "\n",
    "Accuracy : 90.56%\n"
   ]
  },
  {
   "cell_type": "code",
   "execution_count": 2,
   "metadata": {
    "collapsed": false
   },
   "outputs": [
    {
     "name": "stdout",
     "output_type": "stream",
     "text": [
      "verbose: True\n",
      "normal: False\n",
      "win: 11\n",
      "savemodel: False\n",
      "fold: 3\n",
      "seed: 345\n",
      "emb_dimension: 100\n",
      "nepochs: 10\n",
      "nhidden: 100\n",
      "decay: True\n",
      "lr: 0.0970806646813\n",
      "folder: ../result\n",
      "... loading the dataset\n",
      "... building the model\n",
      "... training\n",
      "NEW BEST: epoch 0 valid F1 65.75 best test F1 63.52\n",
      "NEW BEST: epoch 1 valid F1 77.62 best test F1 74.15\n",
      "NEW BEST: epoch 2 valid F1 82.17 best test F1 78.52\n",
      "NEW BEST: epoch 3 valid F1 85.12 best test F1 81.88\n",
      "NEW BEST: epoch 4 valid F1 87.37 best test F1 85.04\n",
      "NEW BEST: epoch 5 valid F1 89.05 best test F1 85.77\n",
      "NEW BEST: epoch 6 valid F1 89.93 best test F1 86.51\n",
      "NEW BEST: epoch 7 valid F1 91.69 best test F1 89.27\n",
      "NEW BEST: epoch 8 valid F1 92.13 best test F1 89.72\n",
      "NEW BEST: epoch 9 valid F1 93.39 best test F1 90.56\n",
      "BEST RESULT: epoch 9 valid F1 93.39 best test F1 90.56 with the model ../result\n"
     ]
    }
   ],
   "source": [
    "test_rnnslu(emb_dimension=100,win=11,nhidden=100,normal=False)"
   ]
  },
  {
   "cell_type": "markdown",
   "metadata": {},
   "source": [
    "win=11,nhidden=100,emb_dimension=50\n",
    "\n",
    "Accuracy : 90.94%\n"
   ]
  },
  {
   "cell_type": "code",
   "execution_count": 53,
   "metadata": {
    "collapsed": false
   },
   "outputs": [
    {
     "name": "stdout",
     "output_type": "stream",
     "text": [
      "verbose: True\n",
      "normal: False\n",
      "win: 11\n",
      "savemodel: False\n",
      "fold: 3\n",
      "seed: 345\n",
      "emb_dimension: 50\n",
      "nepochs: 10\n",
      "nhidden: 100\n",
      "decay: True\n",
      "lr: 0.0970806646813\n",
      "folder: ../result\n",
      "... loading the dataset\n",
      "... building the model\n",
      "... training\n",
      "NEW BEST: epoch 0 valid F1 62.5 best test F1 59.39\n",
      "NEW BEST: epoch 1 valid F1 75.36 best test F1 72.08\n",
      "NEW BEST: epoch 2 valid F1 80.88 best test F1 77.67\n",
      "NEW BEST: epoch 3 valid F1 84.9 best test F1 82.17\n",
      "NEW BEST: epoch 4 valid F1 87.06 best test F1 84.06\n",
      "NEW BEST: epoch 5 valid F1 88.79 best test F1 85.61\n",
      "NEW BEST: epoch 6 valid F1 89.96 best test F1 86.73\n",
      "NEW BEST: epoch 7 valid F1 91.38 best test F1 88.55\n",
      "NEW BEST: epoch 8 valid F1 91.68 best test F1 89.22\n",
      "NEW BEST: epoch 9 valid F1 93.06 best test F1 90.94\n",
      "BEST RESULT: epoch 9 valid F1 93.06 best test F1 90.94 with the model ../result\n"
     ]
    }
   ],
   "source": [
    "test_rnnslu(win=11,nhidden=100,normal=False)"
   ]
  },
  {
   "cell_type": "markdown",
   "metadata": {},
   "source": [
    "Without normalizing, we get better accuracy."
   ]
  },
  {
   "cell_type": "markdown",
   "metadata": {},
   "source": [
    "#### Bullet 3: Implement RNN with two hidden layers\n",
    "\n",
    "win=7,nhidden1=200,nhidden2=200,emb_dimension=50 (default)\n",
    "\n",
    "Accuracy : 89.18%\n"
   ]
  },
  {
   "cell_type": "code",
   "execution_count": 1,
   "metadata": {
    "collapsed": false,
    "scrolled": true
   },
   "outputs": [
    {
     "name": "stdout",
     "output_type": "stream",
     "text": [
      "verbose: True\n",
      "normal: True\n",
      "nhidden2: 200\n",
      "win: 7\n",
      "nhidden1: 200\n",
      "savemodel: False\n",
      "fold: 3\n",
      "seed: 345\n",
      "emb_dimension: 50\n",
      "nepochs: 10\n",
      "decay: True\n",
      "lr: 0.0970806646813\n",
      "folder: ../result\n",
      "... loading the dataset\n",
      "... building the model\n",
      "... training\n",
      "NEW BEST: epoch 0 valid F1 61.77 best test F1 56.11\n",
      "NEW BEST: epoch 1 valid F1 72.46 best test F1 68.25\n",
      "NEW BEST: epoch 2 valid F1 78.85 best test F1 76.44\n",
      "NEW BEST: epoch 3 valid F1 84.68 best test F1 80.91\n",
      "NEW BEST: epoch 4 valid F1 86.42 best test F1 81.79\n",
      "NEW BEST: epoch 5 valid F1 88.6 best test F1 85.16\n",
      "NEW BEST: epoch 6 valid F1 89.33 best test F1 87.2\n",
      "NEW BEST: epoch 7 valid F1 91.0 best test F1 88.81\n",
      "NEW BEST: epoch 8 valid F1 91.43 best test F1 89.18\n",
      "\n",
      "BEST RESULT: epoch 8 valid F1 91.43 best test F1 89.18 with the model ../result\n"
     ]
    }
   ],
   "source": [
    "from hw4a import test_rnnslu2\n",
    "test_rnnslu2()"
   ]
  },
  {
   "cell_type": "markdown",
   "metadata": {},
   "source": [
    "win=11,nhidden1=200,nhidden2=200,emb_dimension=50 \n",
    "\n",
    "Accuracy : 88.9%\n"
   ]
  },
  {
   "cell_type": "code",
   "execution_count": 2,
   "metadata": {
    "collapsed": false
   },
   "outputs": [
    {
     "name": "stdout",
     "output_type": "stream",
     "text": [
      "verbose: True\n",
      "normal: True\n",
      "nhidden2: 200\n",
      "win: 11\n",
      "nhidden1: 200\n",
      "savemodel: False\n",
      "fold: 3\n",
      "seed: 345\n",
      "emb_dimension: 50\n",
      "nepochs: 10\n",
      "decay: True\n",
      "lr: 0.0970806646813\n",
      "folder: ../result\n",
      "... loading the dataset\n",
      "Downloading data from http://lisaweb.iro.umontreal.ca/transfert/lisa/users/mesnilgr/atis/atis.fold3.pkl.gz\n",
      "... building the model\n",
      "... training\n",
      "NEW BEST: epoch 0 valid F1 60.41 best test F1 56.24\n",
      "NEW BEST: epoch 1 valid F1 73.42 best test F1 69.53\n",
      "NEW BEST: epoch 2 valid F1 80.18 best test F1 76.56\n",
      "NEW BEST: epoch 3 valid F1 84.28 best test F1 80.31\n",
      "NEW BEST: epoch 4 valid F1 86.39 best test F1 82.49\n",
      "NEW BEST: epoch 5 valid F1 88.59 best test F1 85.15\n",
      "NEW BEST: epoch 6 valid F1 89.39 best test F1 86.3\n",
      "NEW BEST: epoch 7 valid F1 91.53 best test F1 87.84\n",
      "NEW BEST: epoch 8 valid F1 92.52 best test F1 88.9\n",
      "\n",
      "BEST RESULT: epoch 8 valid F1 92.52 best test F1 88.9 with the model ../result\n"
     ]
    }
   ],
   "source": [
    "test_rnnslu2(win=11)"
   ]
  },
  {
   "cell_type": "markdown",
   "metadata": {},
   "source": [
    "win=7,nhidden1=100,nhidden2=200,emb_dimension=50 \n",
    "\n",
    "Accuracy : 88.28%\n"
   ]
  },
  {
   "cell_type": "code",
   "execution_count": 3,
   "metadata": {
    "collapsed": false
   },
   "outputs": [
    {
     "name": "stdout",
     "output_type": "stream",
     "text": [
      "verbose: True\n",
      "normal: True\n",
      "nhidden2: 200\n",
      "win: 7\n",
      "nhidden1: 100\n",
      "savemodel: False\n",
      "fold: 3\n",
      "seed: 345\n",
      "emb_dimension: 50\n",
      "nepochs: 10\n",
      "decay: True\n",
      "lr: 0.0970806646813\n",
      "folder: ../result\n",
      "... loading the dataset\n",
      "... building the model\n",
      "... training\n",
      "NEW BEST: epoch 0 valid F1 55.92 best test F1 52.12\n",
      "NEW BEST: epoch 1 valid F1 67.66 best test F1 64.59\n",
      "NEW BEST: epoch 2 valid F1 73.58 best test F1 70.97\n",
      "NEW BEST: epoch 3 valid F1 80.83 best test F1 76.5\n",
      "NEW BEST: epoch 4 valid F1 84.59 best test F1 82.34\n",
      "NEW BEST: epoch 5 valid F1 86.43 best test F1 83.04\n",
      "NEW BEST: epoch 6 valid F1 87.73 best test F1 84.87\n",
      "NEW BEST: epoch 7 valid F1 89.88 best test F1 86.9\n",
      "NEW BEST: epoch 8 valid F1 91.24 best test F1 88.25\n",
      "NEW BEST: epoch 9 valid F1 91.44 best test F1 88.28\n",
      "BEST RESULT: epoch 9 valid F1 91.44 best test F1 88.28 with the model ../result\n"
     ]
    }
   ],
   "source": [
    "test_rnnslu2(nhidden1=100)"
   ]
  },
  {
   "cell_type": "markdown",
   "metadata": {},
   "source": [
    "win=7,nhidden1=200,nhidden2=200,emb_dimension=100\n",
    "\n",
    "Accuracy : 89.97%\n"
   ]
  },
  {
   "cell_type": "code",
   "execution_count": 4,
   "metadata": {
    "collapsed": false
   },
   "outputs": [
    {
     "name": "stdout",
     "output_type": "stream",
     "text": [
      "verbose: True\n",
      "normal: True\n",
      "nhidden2: 200\n",
      "win: 7\n",
      "nhidden1: 200\n",
      "savemodel: False\n",
      "fold: 3\n",
      "seed: 345\n",
      "emb_dimension: 100\n",
      "nepochs: 10\n",
      "decay: True\n",
      "lr: 0.0970806646813\n",
      "folder: ../result\n",
      "... loading the dataset\n",
      "... building the model\n",
      "... training\n",
      "NEW BEST: epoch 0 valid F1 62.5 best test F1 58.62\n",
      "NEW BEST: epoch 1 valid F1 74.24 best test F1 70.08\n",
      "NEW BEST: epoch 2 valid F1 80.7 best test F1 77.64\n",
      "NEW BEST: epoch 3 valid F1 84.41 best test F1 82.61\n",
      "NEW BEST: epoch 4 valid F1 87.46 best test F1 84.06\n",
      "NEW BEST: epoch 5 valid F1 89.53 best test F1 86.16\n",
      "NEW BEST: epoch 6 valid F1 90.62 best test F1 87.83\n",
      "NEW BEST: epoch 7 valid F1 91.4 best test F1 89.17\n",
      "NEW BEST: epoch 8 valid F1 92.18 best test F1 89.13\n",
      "NEW BEST: epoch 9 valid F1 92.85 best test F1 89.97\n",
      "BEST RESULT: epoch 9 valid F1 92.85 best test F1 89.97 with the model ../result\n"
     ]
    }
   ],
   "source": [
    "test_rnnslu2(emb_dimension=100)"
   ]
  },
  {
   "cell_type": "markdown",
   "metadata": {},
   "source": [
    "win=7,nhidden1=100,nhidden2=200,emb_dimension=100 \n",
    "\n",
    "Accuracy : 90.05%"
   ]
  },
  {
   "cell_type": "code",
   "execution_count": 4,
   "metadata": {
    "collapsed": false
   },
   "outputs": [
    {
     "name": "stdout",
     "output_type": "stream",
     "text": [
      "verbose: True\n",
      "normal: True\n",
      "nhidden2: 200\n",
      "win: 7\n",
      "nhidden1: 100\n",
      "savemodel: False\n",
      "fold: 3\n",
      "seed: 345\n",
      "emb_dimension: 100\n",
      "nepochs: 10\n",
      "decay: True\n",
      "lr: 0.0970806646813\n",
      "folder: ../result\n",
      "... loading the dataset\n",
      "... building the model\n",
      "... training\n",
      "NEW BEST: epoch 0 valid F1 59.29 best test F1 54.74\n",
      "NEW BEST: epoch 1 valid F1 68.11 best test F1 65.58\n",
      "NEW BEST: epoch 2 valid F1 77.49 best test F1 74.47\n",
      "NEW BEST: epoch 3 valid F1 82.45 best test F1 79.04\n",
      "NEW BEST: epoch 4 valid F1 85.83 best test F1 82.72\n",
      "NEW BEST: epoch 5 valid F1 87.49 best test F1 84.44\n",
      "NEW BEST: epoch 6 valid F1 88.53 best test F1 86.73\n",
      "NEW BEST: epoch 7 valid F1 91.0 best test F1 88.69\n",
      "NEW BEST: epoch 8 valid F1 91.2 best test F1 89.21\n",
      "NEW BEST: epoch 9 valid F1 92.69 best test F1 90.05\n",
      "BEST RESULT: epoch 9 valid F1 92.69 best test F1 90.05 with the model ../result\n"
     ]
    }
   ],
   "source": [
    "test_rnnslu2(emb_dimension=100,nhidden1=100)"
   ]
  },
  {
   "cell_type": "markdown",
   "metadata": {},
   "source": [
    "win=11,nhidden1=200,nhidden2=200,emb_dimension=100 \n",
    "\n",
    "Accuracy : 89.63%"
   ]
  },
  {
   "cell_type": "code",
   "execution_count": 5,
   "metadata": {
    "collapsed": false
   },
   "outputs": [
    {
     "name": "stdout",
     "output_type": "stream",
     "text": [
      "verbose: True\n",
      "normal: True\n",
      "nhidden2: 200\n",
      "win: 11\n",
      "nhidden1: 200\n",
      "savemodel: False\n",
      "fold: 3\n",
      "seed: 345\n",
      "emb_dimension: 100\n",
      "nepochs: 10\n",
      "decay: True\n",
      "lr: 0.0970806646813\n",
      "folder: ../result\n",
      "... loading the dataset\n",
      "... building the model\n",
      "... training\n",
      "NEW BEST: epoch 0 valid F1 61.08 best test F1 57.63\n",
      "NEW BEST: epoch 1 valid F1 71.96 best test F1 69.0\n",
      "NEW BEST: epoch 2 valid F1 80.08 best test F1 76.86\n",
      "NEW BEST: epoch 3 valid F1 84.44 best test F1 82.11\n",
      "NEW BEST: epoch 4 valid F1 86.72 best test F1 83.0\n",
      "NEW BEST: epoch 5 valid F1 89.64 best test F1 86.82\n",
      "NEW BEST: epoch 6 valid F1 89.79 best test F1 86.8\n",
      "NEW BEST: epoch 7 valid F1 91.92 best test F1 89.18\n",
      "NEW BEST: epoch 8 valid F1 92.49 best test F1 89.63\n",
      "\n",
      "BEST RESULT: epoch 8 valid F1 92.49 best test F1 89.63 with the model ../result\n"
     ]
    }
   ],
   "source": [
    "test_rnnslu2(emb_dimension=100,win=11)"
   ]
  },
  {
   "cell_type": "markdown",
   "metadata": {},
   "source": [
    "win=11,nhidden1=100,nhidden2=200,emb_dimension=100 \n",
    "\n",
    "Accuracy : 89.83%"
   ]
  },
  {
   "cell_type": "code",
   "execution_count": 7,
   "metadata": {
    "collapsed": false
   },
   "outputs": [
    {
     "name": "stdout",
     "output_type": "stream",
     "text": [
      "verbose: True\n",
      "normal: True\n",
      "nhidden2: 200\n",
      "win: 11\n",
      "nhidden1: 100\n",
      "savemodel: False\n",
      "fold: 3\n",
      "seed: 345\n",
      "emb_dimension: 100\n",
      "nepochs: 10\n",
      "decay: True\n",
      "lr: 0.0970806646813\n",
      "folder: ../result\n",
      "... loading the dataset\n",
      "... building the model\n",
      "... training\n",
      "NEW BEST: epoch 0 valid F1 60.04 best test F1 55.58\n",
      "NEW BEST: epoch 1 valid F1 69.66 best test F1 66.64\n",
      "NEW BEST: epoch 2 valid F1 78.39 best test F1 75.17\n",
      "NEW BEST: epoch 3 valid F1 82.96 best test F1 79.84\n",
      "NEW BEST: epoch 4 valid F1 85.66 best test F1 82.28\n",
      "NEW BEST: epoch 5 valid F1 87.6 best test F1 84.03\n",
      "NEW BEST: epoch 6 valid F1 88.59 best test F1 86.01\n",
      "NEW BEST: epoch 7 valid F1 90.47 best test F1 87.95\n",
      "NEW BEST: epoch 8 valid F1 91.31 best test F1 87.87\n",
      "NEW BEST: epoch 9 valid F1 92.24 best test F1 89.83\n",
      "BEST RESULT: epoch 9 valid F1 92.24 best test F1 89.83 with the model ../result\n"
     ]
    }
   ],
   "source": [
    "test_rnnslu2(emb_dimension=100,win=11,nhidden1=100)"
   ]
  },
  {
   "cell_type": "markdown",
   "metadata": {},
   "source": [
    "win=11,nhidden1=100,nhidden2=200,emb_dimension=50 \n",
    "\n",
    "Accuracy : 88.2%"
   ]
  },
  {
   "cell_type": "code",
   "execution_count": 2,
   "metadata": {
    "collapsed": false
   },
   "outputs": [
    {
     "name": "stdout",
     "output_type": "stream",
     "text": [
      "verbose: True\n",
      "normal: True\n",
      "nhidden2: 200\n",
      "win: 11\n",
      "nhidden1: 100\n",
      "savemodel: False\n",
      "fold: 3\n",
      "seed: 345\n",
      "emb_dimension: 50\n",
      "nepochs: 10\n",
      "decay: True\n",
      "lr: 0.0970806646813\n",
      "folder: ../result\n",
      "... loading the dataset\n",
      "Downloading data from http://lisaweb.iro.umontreal.ca/transfert/lisa/users/mesnilgr/atis/atis.fold3.pkl.gz\n",
      "... building the model\n",
      "... training\n",
      "NEW BEST: epoch 0 valid F1 59.0 best test F1 53.76\n",
      "NEW BEST: epoch 1 valid F1 68.5 best test F1 65.45\n",
      "NEW BEST: epoch 2 valid F1 75.85 best test F1 73.97\n",
      "NEW BEST: epoch 3 valid F1 81.53 best test F1 79.4\n",
      "NEW BEST: epoch 4 valid F1 83.72 best test F1 81.03\n",
      "NEW BEST: epoch 5 valid F1 85.92 best test F1 83.69\n",
      "NEW BEST: epoch 6 valid F1 88.36 best test F1 85.73\n",
      "NEW BEST: epoch 7 valid F1 89.17 best test F1 87.89\n",
      "NEW BEST: epoch 8 valid F1 90.0 best test F1 87.7\n",
      "NEW BEST: epoch 9 valid F1 91.25 best test F1 88.2\n",
      "BEST RESULT: epoch 9 valid F1 91.25 best test F1 88.2 with the model ../result\n"
     ]
    }
   ],
   "source": [
    "test_rnnslu2(win=11,nhidden1=100)"
   ]
  },
  {
   "cell_type": "markdown",
   "metadata": {},
   "source": [
    "win=7,nhidden1=200,nhidden2=200,emb_dimension=50 \n",
    "\n",
    "Accuracy : 88.83%"
   ]
  },
  {
   "cell_type": "code",
   "execution_count": 2,
   "metadata": {
    "collapsed": false
   },
   "outputs": [
    {
     "name": "stdout",
     "output_type": "stream",
     "text": [
      "verbose: True\n",
      "normal: True\n",
      "nhidden2: 100\n",
      "win: 11\n",
      "nhidden1: 200\n",
      "savemodel: False\n",
      "fold: 3\n",
      "seed: 345\n",
      "emb_dimension: 50\n",
      "nepochs: 10\n",
      "decay: True\n",
      "lr: 0.0970806646813\n",
      "folder: ../result\n",
      "... loading the dataset\n",
      "... building the model\n",
      "... training\n",
      "NEW BEST: epoch 0 valid F1 57.45 best test F1 54.18\n",
      "NEW BEST: epoch 1 valid F1 68.18 best test F1 64.43\n",
      "NEW BEST: epoch 2 valid F1 76.59 best test F1 73.44\n",
      "NEW BEST: epoch 3 valid F1 81.28 best test F1 76.98\n",
      "NEW BEST: epoch 4 valid F1 83.89 best test F1 80.06\n",
      "NEW BEST: epoch 5 valid F1 86.1 best test F1 82.93\n",
      "NEW BEST: epoch 6 valid F1 88.33 best test F1 84.93\n",
      "NEW BEST: epoch 7 valid F1 90.29 best test F1 87.35\n",
      "NEW BEST: epoch 8 valid F1 90.94 best test F1 88.36\n",
      "NEW BEST: epoch 9 valid F1 91.06 best test F1 88.83\n",
      "BEST RESULT: epoch 9 valid F1 91.06 best test F1 88.83 with the model ../result\n"
     ]
    }
   ],
   "source": [
    "test_rnnslu2(win=11,nhidden2=100)"
   ]
  },
  {
   "cell_type": "markdown",
   "metadata": {},
   "source": [
    "win=7,nhidden1=100,nhidden2=100,emb_dimension=50 \n",
    "\n",
    "Accuracy : 85.28%"
   ]
  },
  {
   "cell_type": "code",
   "execution_count": 4,
   "metadata": {
    "collapsed": false
   },
   "outputs": [
    {
     "name": "stdout",
     "output_type": "stream",
     "text": [
      "verbose: True\n",
      "normal: True\n",
      "nhidden2: 100\n",
      "win: 7\n",
      "nhidden1: 100\n",
      "savemodel: False\n",
      "fold: 3\n",
      "seed: 345\n",
      "emb_dimension: 50\n",
      "nepochs: 10\n",
      "decay: True\n",
      "lr: 0.0970806646813\n",
      "folder: ../result\n",
      "... loading the dataset\n",
      "... building the model\n",
      "... training\n",
      "NEW BEST: epoch 0 valid F1 55.78 best test F1 51.41\n",
      "NEW BEST: epoch 1 valid F1 65.37 best test F1 63.32\n",
      "NEW BEST: epoch 2 valid F1 72.35 best test F1 70.21\n",
      "NEW BEST: epoch 3 valid F1 76.84 best test F1 74.82\n",
      "NEW BEST: epoch 4 valid F1 81.8 best test F1 79.33\n",
      "NEW BEST: epoch 5 valid F1 83.07 best test F1 80.46\n",
      "NEW BEST: epoch 6 valid F1 85.39 best test F1 82.22\n",
      "NEW BEST: epoch 7 valid F1 87.12 best test F1 84.32\n",
      "NEW BEST: epoch 8 valid F1 87.66 best test F1 85.24\n",
      "NEW BEST: epoch 9 valid F1 89.03 best test F1 85.28\n",
      "BEST RESULT: epoch 9 valid F1 89.03 best test F1 85.28 with the model ../result\n"
     ]
    }
   ],
   "source": [
    "test_rnnslu2(nhidden1=100,nhidden2=100)"
   ]
  },
  {
   "cell_type": "markdown",
   "metadata": {},
   "source": [
    "win=7,nhidden1=200,nhidden2=100,emb_dimension=100 \n",
    "\n",
    "Accuracy : 89.46%"
   ]
  },
  {
   "cell_type": "code",
   "execution_count": 3,
   "metadata": {
    "collapsed": false
   },
   "outputs": [
    {
     "name": "stdout",
     "output_type": "stream",
     "text": [
      "verbose: True\n",
      "normal: True\n",
      "nhidden2: 100\n",
      "win: 7\n",
      "nhidden1: 200\n",
      "savemodel: False\n",
      "fold: 3\n",
      "seed: 345\n",
      "emb_dimension: 100\n",
      "nepochs: 10\n",
      "decay: True\n",
      "lr: 0.0970806646813\n",
      "folder: ../result\n",
      "... loading the dataset\n",
      "... building the model\n",
      "... training\n",
      "NEW BEST: epoch 0 valid F1 60.5 best test F1 57.76\n",
      "NEW BEST: epoch 1 valid F1 69.4 best test F1 67.9\n",
      "NEW BEST: epoch 2 valid F1 79.28 best test F1 75.23\n",
      "NEW BEST: epoch 3 valid F1 82.15 best test F1 79.02\n",
      "NEW BEST: epoch 4 valid F1 84.27 best test F1 81.34\n",
      "NEW BEST: epoch 5 valid F1 86.82 best test F1 83.52\n",
      "NEW BEST: epoch 6 valid F1 88.07 best test F1 83.92\n",
      "NEW BEST: epoch 7 valid F1 89.29 best test F1 87.4\n",
      "NEW BEST: epoch 8 valid F1 90.44 best test F1 88.43\n",
      "NEW BEST: epoch 9 valid F1 92.02 best test F1 89.46\n",
      "BEST RESULT: epoch 9 valid F1 92.02 best test F1 89.46 with the model ../result\n"
     ]
    }
   ],
   "source": [
    "test_rnnslu2(emb_dimension=100,nhidden2=100)"
   ]
  },
  {
   "cell_type": "markdown",
   "metadata": {},
   "source": [
    "win=7,nhidden1=100,nhidden2=100,emb_dimension=100 \n",
    "\n",
    "Accuracy : 87.75%"
   ]
  },
  {
   "cell_type": "code",
   "execution_count": 4,
   "metadata": {
    "collapsed": false
   },
   "outputs": [
    {
     "name": "stdout",
     "output_type": "stream",
     "text": [
      "verbose: True\n",
      "normal: True\n",
      "nhidden2: 100\n",
      "win: 7\n",
      "nhidden1: 100\n",
      "savemodel: False\n",
      "fold: 3\n",
      "seed: 345\n",
      "emb_dimension: 100\n",
      "nepochs: 10\n",
      "decay: True\n",
      "lr: 0.0970806646813\n",
      "folder: ../result\n",
      "... loading the dataset\n",
      "... building the model\n",
      "... training\n",
      "NEW BEST: epoch 0 valid F1 55.7 best test F1 52.67\n",
      "NEW BEST: epoch 1 valid F1 65.62 best test F1 62.52\n",
      "NEW BEST: epoch 2 valid F1 75.78 best test F1 72.72\n",
      "NEW BEST: epoch 3 valid F1 79.96 best test F1 76.04\n",
      "NEW BEST: epoch 4 valid F1 82.89 best test F1 79.7\n",
      "NEW BEST: epoch 5 valid F1 85.0 best test F1 82.35\n",
      "NEW BEST: epoch 6 valid F1 86.9 best test F1 82.95\n",
      "NEW BEST: epoch 7 valid F1 88.25 best test F1 86.37\n",
      "NEW BEST: epoch 8 valid F1 89.3 best test F1 87.61\n",
      "NEW BEST: epoch 9 valid F1 90.32 best test F1 87.75\n",
      "BEST RESULT: epoch 9 valid F1 90.32 best test F1 87.75 with the model ../result\n"
     ]
    }
   ],
   "source": [
    "test_rnnslu2(emb_dimension=100,nhidden1=100,nhidden2=100)"
   ]
  },
  {
   "cell_type": "markdown",
   "metadata": {},
   "source": [
    "win=11,nhidden1=200,nhidden2=100,emb_dimension=100 \n",
    "\n",
    "Accuracy : 88.6%"
   ]
  },
  {
   "cell_type": "code",
   "execution_count": 5,
   "metadata": {
    "collapsed": false
   },
   "outputs": [
    {
     "name": "stdout",
     "output_type": "stream",
     "text": [
      "verbose: True\n",
      "normal: True\n",
      "nhidden2: 100\n",
      "win: 11\n",
      "nhidden1: 200\n",
      "savemodel: False\n",
      "fold: 3\n",
      "seed: 345\n",
      "emb_dimension: 100\n",
      "nepochs: 10\n",
      "decay: True\n",
      "lr: 0.0970806646813\n",
      "folder: ../result\n",
      "... loading the dataset\n",
      "... building the model\n",
      "... training\n",
      "NEW BEST: epoch 0 valid F1 57.54 best test F1 54.87\n",
      "NEW BEST: epoch 1 valid F1 68.51 best test F1 65.8\n",
      "NEW BEST: epoch 2 valid F1 78.47 best test F1 75.37\n",
      "NEW BEST: epoch 3 valid F1 82.19 best test F1 77.47\n",
      "NEW BEST: epoch 4 valid F1 85.81 best test F1 81.72\n",
      "NEW BEST: epoch 5 valid F1 86.99 best test F1 82.94\n",
      "NEW BEST: epoch 6 valid F1 88.51 best test F1 84.85\n",
      "NEW BEST: epoch 7 valid F1 89.94 best test F1 86.59\n",
      "NEW BEST: epoch 8 valid F1 91.32 best test F1 88.65\n",
      "NEW BEST: epoch 9 valid F1 91.66 best test F1 88.6\n",
      "BEST RESULT: epoch 9 valid F1 91.66 best test F1 88.6 with the model ../result\n"
     ]
    }
   ],
   "source": [
    "test_rnnslu2(emb_dimension=100,win=11,nhidden2=100)"
   ]
  },
  {
   "cell_type": "markdown",
   "metadata": {},
   "source": [
    "win=11,nhidden1=100,nhidden2=100,emb_dimension=100 \n",
    "\n",
    "Accuracy : 89.99%"
   ]
  },
  {
   "cell_type": "code",
   "execution_count": 6,
   "metadata": {
    "collapsed": false
   },
   "outputs": [
    {
     "name": "stdout",
     "output_type": "stream",
     "text": [
      "verbose: True\n",
      "normal: True\n",
      "nhidden2: 100\n",
      "win: 11\n",
      "nhidden1: 100\n",
      "savemodel: False\n",
      "fold: 3\n",
      "seed: 345\n",
      "emb_dimension: 100\n",
      "nepochs: 10\n",
      "decay: True\n",
      "lr: 0.0970806646813\n",
      "folder: ../result\n",
      "... loading the dataset\n",
      "... building the model\n",
      "... training\n",
      "NEW BEST: epoch 0 valid F1 57.71 best test F1 53.61\n",
      "NEW BEST: epoch 1 valid F1 65.58 best test F1 62.69\n",
      "NEW BEST: epoch 2 valid F1 74.41 best test F1 71.84\n",
      "NEW BEST: epoch 3 valid F1 79.58 best test F1 76.13\n",
      "NEW BEST: epoch 4 valid F1 83.22 best test F1 79.87\n",
      "NEW BEST: epoch 5 valid F1 84.42 best test F1 82.48\n",
      "NEW BEST: epoch 6 valid F1 87.01 best test F1 83.53\n",
      "NEW BEST: epoch 7 valid F1 88.18 best test F1 86.01\n",
      "NEW BEST: epoch 8 valid F1 89.99 best test F1 87.35\n",
      "\n",
      "BEST RESULT: epoch 8 valid F1 89.99 best test F1 87.35 with the model ../result\n"
     ]
    }
   ],
   "source": [
    "test_rnnslu2(emb_dimension=100,win=11,nhidden1=100,nhidden2=100)"
   ]
  },
  {
   "cell_type": "markdown",
   "metadata": {},
   "source": [
    "win=11,nhidden1=100,nhidden2=100,emb_dimension=50 \n",
    "\n",
    "Accuracy : 88.59%"
   ]
  },
  {
   "cell_type": "code",
   "execution_count": 7,
   "metadata": {
    "collapsed": false
   },
   "outputs": [
    {
     "name": "stdout",
     "output_type": "stream",
     "text": [
      "verbose: True\n",
      "normal: True\n",
      "nhidden2: 100\n",
      "win: 11\n",
      "nhidden1: 100\n",
      "savemodel: False\n",
      "fold: 3\n",
      "seed: 345\n",
      "emb_dimension: 50\n",
      "nepochs: 10\n",
      "decay: True\n",
      "lr: 0.0970806646813\n",
      "folder: ../result\n",
      "... loading the dataset\n",
      "... building the model\n",
      "... training\n",
      "NEW BEST: epoch 0 valid F1 56.54 best test F1 52.67\n",
      "NEW BEST: epoch 1 valid F1 65.97 best test F1 62.82\n",
      "NEW BEST: epoch 2 valid F1 71.7 best test F1 69.89\n",
      "NEW BEST: epoch 3 valid F1 78.74 best test F1 74.63\n",
      "NEW BEST: epoch 4 valid F1 82.8 best test F1 79.23\n",
      "NEW BEST: epoch 5 valid F1 83.58 best test F1 80.83\n",
      "NEW BEST: epoch 6 valid F1 85.72 best test F1 82.7\n",
      "NEW BEST: epoch 7 valid F1 87.77 best test F1 85.67\n",
      "NEW BEST: epoch 8 valid F1 88.59 best test F1 86.36\n",
      "\n",
      "BEST RESULT: epoch 8 valid F1 88.59 best test F1 86.36 with the model ../result\n"
     ]
    }
   ],
   "source": [
    "test_rnnslu2(win=11,nhidden1=100,nhidden2=100)"
   ]
  },
  {
   "cell_type": "markdown",
   "metadata": {
    "collapsed": true
   },
   "source": [
    "2 RNN layers does not improve the accuracy."
   ]
  },
  {
   "cell_type": "markdown",
   "metadata": {},
   "source": [
    "#### Bullet 4: Experiment with word embeddings"
   ]
  },
  {
   "cell_type": "code",
   "execution_count": 19,
   "metadata": {
    "collapsed": true
   },
   "outputs": [
    {
     "name": "stdout",
     "output_type": "stream",
     "text": [
      "verbose: True\n",
      "normal: True\n",
      "win: 7\n",
      "savemodel: False\n",
      "fold: 3\n",
      "seed: 345\n",
      "emb_dimension: 50\n",
      "nepochs: 10\n",
      "nhidden: 200\n",
      "decay: True\n",
      "lr: 0.0970806646813\n",
      "folder: ../result\n",
      "... loading the dataset\n",
      "... building the model\n",
      "... training\n",
      "NEW BEST: epoch 0 valid F1 68.18 best test F1 66.22\n",
      "NEW BEST: epoch 1 valid F1 80.63 best test F1 77.98\n",
      "NEW BEST: epoch 2 valid F1 83.79 best test F1 80.66\n",
      "NEW BEST: epoch 3 valid F1 88.42 best test F1 84.92\n",
      "NEW BEST: epoch 4 valid F1 89.65 best test F1 85.97\n",
      "NEW BEST: epoch 5 valid F1 91.02 best test F1 86.87\n",
      "NEW BEST: epoch 6 valid F1 91.45 best test F1 88.81\n",
      "NEW BEST: epoch 7 valid F1 92.05 best test F1 89.89\n",
      "NEW BEST: epoch 8 valid F1 93.78 best test F1 90.69\n",
      "NEW BEST: epoch 9 valid F1 94.19 best test F1 91.27\n",
      "BEST RESULT: epoch 9 valid F1 94.19 best test F1 91.27 with the model ../result\n"
     ]
    }
   ],
   "source": [
    "emb,i2w=test_rnnslu()"
   ]
  },
  {
   "cell_type": "markdown",
   "metadata": {},
   "source": [
    "$F(\\text{minesota})-F(\\text{mineapolis})$"
   ]
  },
  {
   "cell_type": "code",
   "execution_count": 20,
   "metadata": {
    "collapsed": false
   },
   "outputs": [
    {
     "data": {
      "text/plain": [
       "array([ -8.05544874e-02,   2.49981148e-01,   1.02209816e-01,\n",
       "         3.13897168e-01,  -2.63383048e-01,  -2.11664623e-01,\n",
       "        -9.09031174e-02,   1.27137942e-01,   1.01991647e-02,\n",
       "         2.35101983e-01,   1.59879255e-01,  -2.85679177e-01,\n",
       "        -4.83778809e-02,   2.58034064e-01,  -2.27954692e-02,\n",
       "         3.80656929e-01,   1.37869890e-01,  -1.00164388e-01,\n",
       "        -1.10729905e-01,  -1.78172678e-01,   1.23649058e-01,\n",
       "        -2.00042854e-01,  -1.41330368e-01,   9.53801762e-03,\n",
       "        -2.98265868e-01,  -1.05943077e-01,   1.71319227e-01,\n",
       "        -1.32888754e-01,   1.31326104e-01,  -2.54663728e-01,\n",
       "        -2.56725163e-01,  -3.85023564e-01,   2.78637942e-02,\n",
       "         1.75377648e-01,   3.08431658e-01,  -4.56084783e-02,\n",
       "         1.59367879e-01,  -1.79694747e-02,   2.00079215e-01,\n",
       "         2.10415089e-02,   2.66330851e-01,  -1.77132033e-01,\n",
       "         1.25901334e-04,  -2.62059050e-01,   3.50913769e-01,\n",
       "        -3.78927587e-02,  -1.25715901e-01,  -1.03748799e-01,\n",
       "         2.89082187e-01,  -2.58240044e-01])"
      ]
     },
     "execution_count": 20,
     "metadata": {},
     "output_type": "execute_result"
    }
   ],
   "source": [
    "emb[314]-emb[313]"
   ]
  },
  {
   "cell_type": "markdown",
   "metadata": {},
   "source": [
    "$F(\\text{arizona})-F(\\text{phoenix})$"
   ]
  },
  {
   "cell_type": "code",
   "execution_count": 21,
   "metadata": {
    "collapsed": false
   },
   "outputs": [
    {
     "data": {
      "text/plain": [
       "array([-0.10286882,  0.20418431,  0.10776835, -0.07127304, -0.18840866,\n",
       "        0.15482149,  0.2020108 , -0.08001823,  0.01373817, -0.15260767,\n",
       "       -0.06273765,  0.09601484,  0.32837143,  0.14578463,  0.14787568,\n",
       "        0.22629703,  0.21486077, -0.01554049, -0.33294361, -0.02049713,\n",
       "        0.08548326,  0.18336744,  0.07308709, -0.37149435, -0.4162823 ,\n",
       "        0.0564875 ,  0.34898915, -0.00059224,  0.07459384, -0.32904079,\n",
       "       -0.02621357,  0.09244258,  0.01058751,  0.1534198 ,  0.27431321,\n",
       "       -0.13240037,  0.11956453, -0.00368348,  0.22874268, -0.21333523,\n",
       "        0.10838379, -0.00766548, -0.16838186,  0.02800306,  0.30769795,\n",
       "       -0.23274968,  0.33241157,  0.28147245, -0.10309418, -0.15715315])"
      ]
     },
     "execution_count": 21,
     "metadata": {},
     "output_type": "execute_result"
    }
   ],
   "source": [
    "emb[52]-emb[378]"
   ]
  },
  {
   "cell_type": "markdown",
   "metadata": {},
   "source": [
    "$F(\\text{chicago})-F(\\text{limo})$"
   ]
  },
  {
   "cell_type": "code",
   "execution_count": 22,
   "metadata": {
    "collapsed": false
   },
   "outputs": [
    {
     "data": {
      "text/plain": [
       "array([ 0.00078641, -0.51840191, -0.038087  , -0.14862891,  0.1883847 ,\n",
       "        0.12848137, -0.16048708, -0.24757958,  0.09621528, -0.06120773,\n",
       "        0.18713129, -0.0104479 , -0.06962451, -0.02549742,  0.02430277,\n",
       "       -0.13745861,  0.01734088,  0.24615432, -0.00898097,  0.08749381,\n",
       "       -0.13186715, -0.04350137,  0.1055625 , -0.09383744, -0.02967642,\n",
       "       -0.01753665, -0.29108593, -0.01786939, -0.31892233,  0.21611604,\n",
       "        0.08333373, -0.06834723,  0.2708981 , -0.36077038,  0.11068653,\n",
       "       -0.09964544,  0.04368517, -0.02820963, -0.09239662,  0.0316021 ,\n",
       "        0.22945936, -0.12866769,  0.1780863 ,  0.25909194,  0.25282642,\n",
       "       -0.01293455,  0.05707347, -0.12254844, -0.33192145,  0.16106597])"
      ]
     },
     "execution_count": 22,
     "metadata": {},
     "output_type": "execute_result"
    }
   ],
   "source": [
    "emb[100]-emb[274]"
   ]
  },
  {
   "cell_type": "code",
   "execution_count": 10,
   "metadata": {
    "collapsed": false,
    "scrolled": true
   },
   "outputs": [
    {
     "data": {
      "text/plain": [
       "{0: \"'d\",\n",
       " 1: \"'ll\",\n",
       " 2: \"'m\",\n",
       " 3: \"'re\",\n",
       " 4: \"'s\",\n",
       " 5: \"'t\",\n",
       " 6: '72s',\n",
       " 7: '<UNK>',\n",
       " 8: 'DIGIT',\n",
       " 9: 'DIGITDIGIT',\n",
       " 10: 'DIGITDIGITDIGIT',\n",
       " 11: 'DIGITDIGITDIGITDIGIT',\n",
       " 12: 'DIGITDIGITDIGITDIGITDIGITDIGIT',\n",
       " 13: 'a',\n",
       " 14: 'abbreviation',\n",
       " 15: 'abbreviations',\n",
       " 16: 'about',\n",
       " 17: 'ac',\n",
       " 18: 'actually',\n",
       " 19: 'after',\n",
       " 20: 'afternoon',\n",
       " 21: 'again',\n",
       " 22: 'air',\n",
       " 23: 'aircraft',\n",
       " 24: 'airfare',\n",
       " 25: 'airline',\n",
       " 26: 'airlines',\n",
       " 27: 'airplane',\n",
       " 28: 'airplanes',\n",
       " 29: 'airport',\n",
       " 30: 'airports',\n",
       " 31: 'alaska',\n",
       " 32: 'all',\n",
       " 33: 'along',\n",
       " 34: 'also',\n",
       " 35: 'am',\n",
       " 36: 'america',\n",
       " 37: 'american',\n",
       " 38: 'amount',\n",
       " 39: 'an',\n",
       " 40: 'and',\n",
       " 41: 'angeles',\n",
       " 42: 'another',\n",
       " 43: 'any',\n",
       " 44: 'anywhere',\n",
       " 45: 'ap',\n",
       " 46: 'ap57',\n",
       " 47: 'ap80',\n",
       " 48: 'approximately',\n",
       " 49: 'april',\n",
       " 50: 'are',\n",
       " 51: 'area',\n",
       " 52: 'arizona',\n",
       " 53: 'around',\n",
       " 54: 'arrange',\n",
       " 55: 'arrangements',\n",
       " 56: 'arrival',\n",
       " 57: 'arrivals',\n",
       " 58: 'arrive',\n",
       " 59: 'arrives',\n",
       " 60: 'arriving',\n",
       " 61: 'as',\n",
       " 62: 'at',\n",
       " 63: 'atl',\n",
       " 64: 'atlanta',\n",
       " 65: 'august',\n",
       " 66: 'available',\n",
       " 67: 'b',\n",
       " 68: 'back',\n",
       " 69: 'baltimore',\n",
       " 70: 'be',\n",
       " 71: 'beach',\n",
       " 72: 'before',\n",
       " 73: 'between',\n",
       " 74: 'boeing',\n",
       " 75: 'book',\n",
       " 76: 'booking',\n",
       " 77: 'boston',\n",
       " 78: 'both',\n",
       " 79: 'bound',\n",
       " 80: 'breakfast',\n",
       " 81: 'burbank',\n",
       " 82: 'business',\n",
       " 83: 'but',\n",
       " 84: 'buy',\n",
       " 85: 'bwi',\n",
       " 86: 'by',\n",
       " 87: 'c',\n",
       " 88: 'california',\n",
       " 89: 'can',\n",
       " 90: 'canada',\n",
       " 91: 'canadian',\n",
       " 92: 'capacity',\n",
       " 93: 'car',\n",
       " 94: 'carolina',\n",
       " 95: 'carries',\n",
       " 96: 'cars',\n",
       " 97: 'charlotte',\n",
       " 98: 'cheap',\n",
       " 99: 'cheapest',\n",
       " 100: 'chicago',\n",
       " 101: 'choices',\n",
       " 102: 'cincinnati',\n",
       " 103: 'cities',\n",
       " 104: 'city',\n",
       " 105: 'class',\n",
       " 106: 'classes',\n",
       " 107: 'cleveland',\n",
       " 108: 'close',\n",
       " 109: 'co',\n",
       " 110: 'coach',\n",
       " 111: 'code',\n",
       " 112: 'codes',\n",
       " 113: 'colorado',\n",
       " 114: 'columbus',\n",
       " 115: 'coming',\n",
       " 116: 'connect',\n",
       " 117: 'connecting',\n",
       " 118: 'connection',\n",
       " 119: 'connections',\n",
       " 120: 'continental',\n",
       " 121: 'cost',\n",
       " 122: 'costs',\n",
       " 123: 'could',\n",
       " 124: 'county',\n",
       " 125: 'cp',\n",
       " 126: 'd',\n",
       " 127: 'daily',\n",
       " 128: 'dallas',\n",
       " 129: 'database',\n",
       " 130: 'day',\n",
       " 131: 'days',\n",
       " 132: 'dc',\n",
       " 133: 'dc10',\n",
       " 134: 'december',\n",
       " 135: 'define',\n",
       " 136: 'delta',\n",
       " 137: 'denver',\n",
       " 138: 'depart',\n",
       " 139: 'departing',\n",
       " 140: 'departs',\n",
       " 141: 'departure',\n",
       " 142: 'departures',\n",
       " 143: 'describe',\n",
       " 144: 'destination',\n",
       " 145: 'detroit',\n",
       " 146: 'dfw',\n",
       " 147: 'diego',\n",
       " 148: 'difference',\n",
       " 149: 'different',\n",
       " 150: 'dinner',\n",
       " 151: 'dinnertime',\n",
       " 152: 'direct',\n",
       " 153: 'display',\n",
       " 154: 'distance',\n",
       " 155: 'dl',\n",
       " 156: 'do',\n",
       " 157: 'does',\n",
       " 158: 'dollars',\n",
       " 159: 'downtown',\n",
       " 160: 'dulles',\n",
       " 161: 'during',\n",
       " 162: 'ea',\n",
       " 163: 'each',\n",
       " 164: 'earlier',\n",
       " 165: 'earliest',\n",
       " 166: 'early',\n",
       " 167: 'eastern',\n",
       " 168: 'economy',\n",
       " 169: 'eight',\n",
       " 170: 'eighteenth',\n",
       " 171: 'eighth',\n",
       " 172: 'either',\n",
       " 173: 'eleventh',\n",
       " 174: 'evening',\n",
       " 175: 'ewr',\n",
       " 176: 'expensive',\n",
       " 177: 'explain',\n",
       " 178: 'express',\n",
       " 179: 'f',\n",
       " 180: 'f28',\n",
       " 181: 'far',\n",
       " 182: 'fare',\n",
       " 183: 'fares',\n",
       " 184: 'february',\n",
       " 185: 'ff',\n",
       " 186: 'field',\n",
       " 187: 'fifteenth',\n",
       " 188: 'fifth',\n",
       " 189: 'find',\n",
       " 190: 'first',\n",
       " 191: 'fit',\n",
       " 192: 'flies',\n",
       " 193: 'flight',\n",
       " 194: 'flights',\n",
       " 195: 'florida',\n",
       " 196: 'fly',\n",
       " 197: 'flying',\n",
       " 198: 'fn',\n",
       " 199: 'following',\n",
       " 200: 'for',\n",
       " 201: 'fort',\n",
       " 202: 'four',\n",
       " 203: 'fourteenth',\n",
       " 204: 'fourth',\n",
       " 205: 'francisco',\n",
       " 206: 'friday',\n",
       " 207: 'friends',\n",
       " 208: 'from',\n",
       " 209: 'general',\n",
       " 210: 'georgia',\n",
       " 211: 'get',\n",
       " 212: 'give',\n",
       " 213: 'go',\n",
       " 214: 'goes',\n",
       " 215: 'going',\n",
       " 216: 'great',\n",
       " 217: 'ground',\n",
       " 218: 'guardia',\n",
       " 219: 'h',\n",
       " 220: 'has',\n",
       " 221: 'have',\n",
       " 222: 'heading',\n",
       " 223: 'hello',\n",
       " 224: 'help',\n",
       " 225: 'here',\n",
       " 226: 'hi',\n",
       " 227: 'highest',\n",
       " 228: 'hours',\n",
       " 229: 'houston',\n",
       " 230: 'how',\n",
       " 231: 'hp',\n",
       " 232: 'i',\n",
       " 233: 'if',\n",
       " 234: 'in',\n",
       " 235: 'include',\n",
       " 236: 'indianapolis',\n",
       " 237: 'information',\n",
       " 238: 'interested',\n",
       " 239: 'international',\n",
       " 240: 'into',\n",
       " 241: 'is',\n",
       " 242: 'it',\n",
       " 243: 'itinerary',\n",
       " 244: 'january',\n",
       " 245: 'jersey',\n",
       " 246: 'jfk',\n",
       " 247: 'jose',\n",
       " 248: 'july',\n",
       " 249: 'june',\n",
       " 250: 'just',\n",
       " 251: 'kansas',\n",
       " 252: 'kind',\n",
       " 253: 'kinds',\n",
       " 254: 'know',\n",
       " 255: 'la',\n",
       " 256: 'lake',\n",
       " 257: 'land',\n",
       " 258: 'landing',\n",
       " 259: 'landings',\n",
       " 260: 'las',\n",
       " 261: 'last',\n",
       " 262: 'lastest',\n",
       " 263: 'late',\n",
       " 264: 'later',\n",
       " 265: 'latest',\n",
       " 266: 'layover',\n",
       " 267: 'least',\n",
       " 268: 'leave',\n",
       " 269: 'leaves',\n",
       " 270: 'leaving',\n",
       " 271: 'less',\n",
       " 272: 'let',\n",
       " 273: 'like',\n",
       " 274: 'limo',\n",
       " 275: 'limousine',\n",
       " 276: 'list',\n",
       " 277: 'listing',\n",
       " 278: 'live',\n",
       " 279: 'lives',\n",
       " 280: 'located',\n",
       " 281: 'logan',\n",
       " 282: 'long',\n",
       " 283: 'look',\n",
       " 284: 'looking',\n",
       " 285: 'los',\n",
       " 286: 'louis',\n",
       " 287: 'love',\n",
       " 288: 'lowest',\n",
       " 289: 'lufthansa',\n",
       " 290: 'lunch',\n",
       " 291: 'm',\n",
       " 292: 'm80',\n",
       " 293: 'make',\n",
       " 294: 'makes',\n",
       " 295: 'making',\n",
       " 296: 'many',\n",
       " 297: 'march',\n",
       " 298: 'maximum',\n",
       " 299: 'may',\n",
       " 300: 'mco',\n",
       " 301: 'me',\n",
       " 302: 'meal',\n",
       " 303: 'meals',\n",
       " 304: 'mean',\n",
       " 305: 'meaning',\n",
       " 306: 'memphis',\n",
       " 307: 'miami',\n",
       " 308: 'michigan',\n",
       " 309: 'midnight',\n",
       " 310: 'midway',\n",
       " 311: 'midwest',\n",
       " 312: 'milwaukee',\n",
       " 313: 'minneapolis',\n",
       " 314: 'minnesota',\n",
       " 315: 'missouri',\n",
       " 316: 'mitchell',\n",
       " 317: 'monday',\n",
       " 318: 'month',\n",
       " 319: 'montreal',\n",
       " 320: 'more',\n",
       " 321: 'morning',\n",
       " 322: 'mornings',\n",
       " 323: 'most',\n",
       " 324: 'much',\n",
       " 325: 'my',\n",
       " 326: 'name',\n",
       " 327: 'names',\n",
       " 328: 'nashville',\n",
       " 329: 'nationair',\n",
       " 330: 'near',\n",
       " 331: 'need',\n",
       " 332: 'new',\n",
       " 333: 'newark',\n",
       " 334: 'next',\n",
       " 335: 'night',\n",
       " 336: 'nineteenth',\n",
       " 337: 'ninth',\n",
       " 338: 'no',\n",
       " 339: 'nonstop',\n",
       " 340: 'nonstops',\n",
       " 341: 'noon',\n",
       " 342: 'noontime',\n",
       " 343: 'north',\n",
       " 344: 'northwest',\n",
       " 345: 'november',\n",
       " 346: 'now',\n",
       " 347: 'number',\n",
       " 348: 'numbers',\n",
       " 349: 'nw',\n",
       " 350: \"o'clock\",\n",
       " 351: 'oakland',\n",
       " 352: 'october',\n",
       " 353: 'of',\n",
       " 354: 'offer',\n",
       " 355: 'offers',\n",
       " 356: 'ohio',\n",
       " 357: 'okay',\n",
       " 358: 'on',\n",
       " 359: 'one',\n",
       " 360: 'only',\n",
       " 361: 'ontario',\n",
       " 362: 'options',\n",
       " 363: 'or',\n",
       " 364: 'ord',\n",
       " 365: 'originate',\n",
       " 366: 'originating',\n",
       " 367: 'orlando',\n",
       " 368: 'other',\n",
       " 369: 'out',\n",
       " 370: 'over',\n",
       " 371: 'passengers',\n",
       " 372: 'paul',\n",
       " 373: 'pennsylvania',\n",
       " 374: 'people',\n",
       " 375: 'petersburg',\n",
       " 376: 'philadelphia',\n",
       " 377: 'philly',\n",
       " 378: 'phoenix',\n",
       " 379: 'pittsburgh',\n",
       " 380: 'plan',\n",
       " 381: 'plane',\n",
       " 382: 'planes',\n",
       " 383: 'please',\n",
       " 384: 'pm',\n",
       " 385: 'possible',\n",
       " 386: 'price',\n",
       " 387: 'prices',\n",
       " 388: 'provide',\n",
       " 389: 'provided',\n",
       " 390: 'q',\n",
       " 391: 'qo',\n",
       " 392: 'quebec',\n",
       " 393: 'qw',\n",
       " 394: 'qx',\n",
       " 395: 'rate',\n",
       " 396: 'rates',\n",
       " 397: 'reaching',\n",
       " 398: 'rent',\n",
       " 399: 'rental',\n",
       " 400: 'rentals',\n",
       " 401: 'repeat',\n",
       " 402: 'requesting',\n",
       " 403: 'reservation',\n",
       " 404: 'reservations',\n",
       " 405: 'restriction',\n",
       " 406: 'restrictions',\n",
       " 407: 'return',\n",
       " 408: 'returning',\n",
       " 409: 'right',\n",
       " 410: 'round',\n",
       " 411: 's',\n",
       " 412: 'sa',\n",
       " 413: 'salt',\n",
       " 414: 'same',\n",
       " 415: 'san',\n",
       " 416: 'saturday',\n",
       " 417: 'saturdays',\n",
       " 418: 'say',\n",
       " 419: 'schedule',\n",
       " 420: 'schedules',\n",
       " 421: 'seating',\n",
       " 422: 'seats',\n",
       " 423: 'seattle',\n",
       " 424: 'second',\n",
       " 425: 'see',\n",
       " 426: 'september',\n",
       " 427: 'serve',\n",
       " 428: 'served',\n",
       " 429: 'serves',\n",
       " 430: 'service',\n",
       " 431: 'serviced',\n",
       " 432: 'services',\n",
       " 433: 'serving',\n",
       " 434: 'seventeenth',\n",
       " 435: 'seventh',\n",
       " 436: 'sfo',\n",
       " 437: 'shortest',\n",
       " 438: 'should',\n",
       " 439: 'show',\n",
       " 440: 'six',\n",
       " 441: 'sixteen',\n",
       " 442: 'sixteenth',\n",
       " 443: 'sixth',\n",
       " 444: 'smallest',\n",
       " 445: 'snack',\n",
       " 446: 'so',\n",
       " 447: 'some',\n",
       " 448: 'sometime',\n",
       " 449: 'soon',\n",
       " 450: 'sorry',\n",
       " 451: 'southwest',\n",
       " 452: 'st.',\n",
       " 453: 'stand',\n",
       " 454: 'stands',\n",
       " 455: 'stapleton',\n",
       " 456: 'starting',\n",
       " 457: 'still',\n",
       " 458: 'stop',\n",
       " 459: 'stopover',\n",
       " 460: 'stopovers',\n",
       " 461: 'stopping',\n",
       " 462: 'stops',\n",
       " 463: 'sunday',\n",
       " 464: 'sundays',\n",
       " 465: 'sure',\n",
       " 466: 'tacoma',\n",
       " 467: 'take',\n",
       " 468: 'takeoff',\n",
       " 469: 'takeoffs',\n",
       " 470: 'taking',\n",
       " 471: 'tampa',\n",
       " 472: 'taxi',\n",
       " 473: 'tell',\n",
       " 474: 'ten',\n",
       " 475: 'tennessee',\n",
       " 476: 'tenth',\n",
       " 477: 'texas',\n",
       " 478: 'than',\n",
       " 479: 'thank',\n",
       " 480: 'that',\n",
       " 481: 'the',\n",
       " 482: 'their',\n",
       " 483: 'then',\n",
       " 484: 'there',\n",
       " 485: 'these',\n",
       " 486: 'they',\n",
       " 487: 'third',\n",
       " 488: 'thirteenth',\n",
       " 489: 'thirtieth',\n",
       " 490: 'thirty',\n",
       " 491: 'this',\n",
       " 492: 'those',\n",
       " 493: 'three',\n",
       " 494: 'thrift',\n",
       " 495: 'through',\n",
       " 496: 'thursday',\n",
       " 497: 'thursdays',\n",
       " 498: 'ticket',\n",
       " 499: 'tickets',\n",
       " 500: 'time',\n",
       " 501: 'times',\n",
       " 502: 'to',\n",
       " 503: 'today',\n",
       " 504: 'tomorrow',\n",
       " 505: 'too',\n",
       " 506: 'toronto',\n",
       " 507: 'total',\n",
       " 508: 'tower',\n",
       " 509: 'train',\n",
       " 510: 'transcontinental',\n",
       " 511: 'transport',\n",
       " 512: 'transportation',\n",
       " 513: 'travel',\n",
       " 514: 'traveling',\n",
       " 515: 'trip',\n",
       " 516: 'trips',\n",
       " 517: 'trying',\n",
       " 518: 'tuesday',\n",
       " 519: 'tuesdays',\n",
       " 520: 'turboprop',\n",
       " 521: 'twa',\n",
       " 522: 'twelfth',\n",
       " 523: 'twentieth',\n",
       " 524: 'twenty',\n",
       " 525: 'two',\n",
       " 526: 'type',\n",
       " 527: 'types',\n",
       " 528: 'ua',\n",
       " 529: 'under',\n",
       " 530: 'united',\n",
       " 531: 'up',\n",
       " 532: 'us',\n",
       " 533: 'use',\n",
       " 534: 'used',\n",
       " 535: 'uses',\n",
       " 536: 'using',\n",
       " 537: 'utah',\n",
       " 538: 'various',\n",
       " 539: 'vegas',\n",
       " 540: 'very',\n",
       " 541: 'via',\n",
       " 542: 'want',\n",
       " 543: 'washington',\n",
       " 544: 'way',\n",
       " 545: 'we',\n",
       " 546: 'wednesday',\n",
       " 547: 'wednesdays',\n",
       " 548: 'week',\n",
       " 549: 'weekday',\n",
       " 550: 'weekdays',\n",
       " 551: 'well',\n",
       " 552: 'west',\n",
       " 553: 'westchester',\n",
       " 554: 'what',\n",
       " 555: 'when',\n",
       " 556: 'where',\n",
       " 557: 'which',\n",
       " 558: 'who',\n",
       " 559: 'will',\n",
       " 560: 'wish',\n",
       " 561: 'with',\n",
       " 562: 'within',\n",
       " 563: 'without',\n",
       " 564: 'worth',\n",
       " 565: 'would',\n",
       " 566: 'y',\n",
       " 567: 'yes',\n",
       " 568: 'yn',\n",
       " 569: 'york',\n",
       " 570: 'you',\n",
       " 571: 'your'}"
      ]
     },
     "execution_count": 10,
     "metadata": {},
     "output_type": "execute_result"
    }
   ],
   "source": [
    "i2w"
   ]
  },
  {
   "cell_type": "markdown",
   "metadata": {},
   "source": [
    "Conclusion : $F(\\text{minesota})-F(\\text{mineapolis})\\approx F(\\text{arizona})-F(\\text{phoenix}) $"
   ]
  },
  {
   "cell_type": "markdown",
   "metadata": {},
   "source": [
    "### Problem b: Learning Parity Function\n",
    "#### Bullet 1: Shallow MLP\n",
    "\n",
    "With n_hidden=256,batch_size=5,nbit=8,learning_rate=1,ndata=1000,nepochs=60 we manage to train the parity function for 8bits"
   ]
  },
  {
   "cell_type": "code",
   "execution_count": 5,
   "metadata": {
    "collapsed": false,
    "scrolled": false
   },
   "outputs": [
    {
     "name": "stdout",
     "output_type": "stream",
     "text": [
      "... building the model\n",
      "... training\n",
      "Optimization complete.\n",
      "Best validation score of 0.000000 % obtained at iteration 6200, with test performance 0.000000 %\n"
     ]
    },
    {
     "name": "stderr",
     "output_type": "stream",
     "text": [
      "The training process for function test_mlp_parity ran for 0.03m\n"
     ]
    }
   ],
   "source": [
    "from hw4b import test_mlp_parity\n",
    "test_mlp_parity(n_hidden=256,batch_size=5,nbit=8,learning_rate=1)"
   ]
  },
  {
   "cell_type": "markdown",
   "metadata": {},
   "source": [
    "With n_hidden=5*4096,batch_size=8,nbit=12,learning_rate=1,ndata=2000,nepochs=60 we manage to train the parity function for 12bits"
   ]
  },
  {
   "cell_type": "code",
   "execution_count": 53,
   "metadata": {
    "collapsed": false
   },
   "outputs": [
    {
     "name": "stdout",
     "output_type": "stream",
     "text": [
      "... building the model\n",
      "... training\n",
      "Optimization complete.\n",
      "Best validation score of 0.300000 % obtained at iteration 7500, with test performance 0.000000 %\n"
     ]
    },
    {
     "name": "stderr",
     "output_type": "stream",
     "text": [
      "The training process for function test_mlp_parity ran for 2.03m\n"
     ]
    }
   ],
   "source": [
    "test_mlp_parity(n_hidden=5*4096,nbit=12,batch_size=8,learning_rate=1,ndata=2000)"
   ]
  },
  {
   "cell_type": "markdown",
   "metadata": {},
   "source": [
    "We notice that we need a number of hidden units exponential to the number of digits to train the parity function"
   ]
  },
  {
   "cell_type": "markdown",
   "metadata": {},
   "source": [
    "#### Bullet 2: Deep MLP"
   ]
  },
  {
   "cell_type": "markdown",
   "metadata": {},
   "source": [
    "With n_hiddenLayers=3,n_hidden=12,batch_size=8,nbit=8,learning_rate=1,ndata=300,nepochs=60 we manage to train the parity function for 8bits"
   ]
  },
  {
   "cell_type": "code",
   "execution_count": 266,
   "metadata": {
    "collapsed": false
   },
   "outputs": [
    {
     "name": "stdout",
     "output_type": "stream",
     "text": [
      "... building the model\n",
      "... training\n",
      "Optimization complete.\n",
      "Best validation score of 3.378378 % obtained at iteration 3300, with test performance 0.000000 %\n"
     ]
    },
    {
     "name": "stderr",
     "output_type": "stream",
     "text": [
      "The training process for function test_mlp_parity ran for 0.01m\n"
     ]
    }
   ],
   "source": [
    "test_mlp_parity(n_hiddenLayers=3,n_hidden=12,nbit=8,batch_size=4,learning_rate=0.2,ndata=300)"
   ]
  },
  {
   "cell_type": "markdown",
   "metadata": {},
   "source": [
    "With n_hiddenLayers=3,n_hidden=22,batch_size=8,nbit=12,learning_rate=0.2,ndata=2000,nepochs=60 we manage to almost train the parity function for 12bits"
   ]
  },
  {
   "cell_type": "code",
   "execution_count": 294,
   "metadata": {
    "collapsed": false
   },
   "outputs": [
    {
     "name": "stdout",
     "output_type": "stream",
     "text": [
      "... building the model\n",
      "... training\n",
      "Optimization complete.\n",
      "Best validation score of 1.000000 % obtained at iteration 12250, with test performance 0.500000 %\n"
     ]
    },
    {
     "name": "stderr",
     "output_type": "stream",
     "text": [
      "The training process for function test_mlp_parity ran for 0.04m\n"
     ]
    }
   ],
   "source": [
    "test_mlp_parity(n_hiddenLayers=3,n_hidden=22,nbit=12,batch_size=8,learning_rate=0.2,ndata=2000)"
   ]
  },
  {
   "cell_type": "markdown",
   "metadata": {},
   "source": [
    "We notice that we need a number of hidden units proportional to the number of digits to train the parity function"
   ]
  },
  {
   "cell_type": "markdown",
   "metadata": {},
   "source": [
    "#### Bullet 3: RNN"
   ]
  },
  {
   "cell_type": "code",
   "execution_count": 1,
   "metadata": {
    "collapsed": false
   },
   "outputs": [],
   "source": [
    "from hw4a import test_rnnslu"
   ]
  },
  {
   "cell_type": "code",
   "execution_count": 1,
   "metadata": {
    "collapsed": true
   },
   "outputs": [
    {
     "name": "stdout",
     "output_type": "stream",
     "text": [
      "nbit: 8\n",
      "verbose: True\n",
      "win: 7\n",
      "savemodel: False\n",
      "fold: 3\n",
      "seed: 345\n",
      "emb_dimension: 50\n",
      "nepochs: 60\n",
      "nhidden: 200\n",
      "decay: True\n",
      "lr: 0.0970806646813\n",
      "folder: ../result\n",
      "... building the model\n",
      "... training\n"
     ]
    },
    {
     "ename": "NameError",
     "evalue": "global name 'train_lex' is not defined",
     "output_type": "error",
     "traceback": [
      "\u001b[0;31m---------------------------------------------------------------------------\u001b[0m",
      "\u001b[0;31mNameError\u001b[0m                                 Traceback (most recent call last)",
      "\u001b[0;32m<ipython-input-1-4ee8b72cf830>\u001b[0m in \u001b[0;36m<module>\u001b[0;34m()\u001b[0m\n\u001b[1;32m      1\u001b[0m \u001b[0;32mfrom\u001b[0m \u001b[0mhw4b\u001b[0m \u001b[0;32mimport\u001b[0m \u001b[0mtest_rnn_parity\u001b[0m\u001b[0;34m\u001b[0m\u001b[0m\n\u001b[0;32m----> 2\u001b[0;31m \u001b[0mtest_rnn_parity\u001b[0m\u001b[0;34m(\u001b[0m\u001b[0;34m)\u001b[0m\u001b[0;34m\u001b[0m\u001b[0m\n\u001b[0m",
      "\u001b[0;32m/Users/michaelweilMichael/Desktop/Columbia_Hmwk/DL/HWs/HW4/e6040_hw4_mmw2190/src/hw4b.py\u001b[0m in \u001b[0;36mtest_rnn_parity\u001b[0;34m(**kwargs)\u001b[0m\n\u001b[1;32m    300\u001b[0m     \u001b[0;32mfor\u001b[0m \u001b[0me\u001b[0m \u001b[0;32min\u001b[0m \u001b[0mrange\u001b[0m\u001b[0;34m(\u001b[0m\u001b[0mparam\u001b[0m\u001b[0;34m[\u001b[0m\u001b[0;34m'nepochs'\u001b[0m\u001b[0;34m]\u001b[0m\u001b[0;34m)\u001b[0m\u001b[0;34m:\u001b[0m\u001b[0;34m\u001b[0m\u001b[0m\n\u001b[1;32m    301\u001b[0m         \u001b[0;31m# shuffle\u001b[0m\u001b[0;34m\u001b[0m\u001b[0;34m\u001b[0m\u001b[0m\n\u001b[0;32m--> 302\u001b[0;31m         \u001b[0mshuffle\u001b[0m\u001b[0;34m(\u001b[0m\u001b[0;34m[\u001b[0m\u001b[0mtrain_lex\u001b[0m\u001b[0;34m,\u001b[0m \u001b[0mtrain_ne\u001b[0m\u001b[0;34m,\u001b[0m \u001b[0mtrain_y\u001b[0m\u001b[0;34m]\u001b[0m\u001b[0;34m,\u001b[0m \u001b[0mparam\u001b[0m\u001b[0;34m[\u001b[0m\u001b[0;34m'seed'\u001b[0m\u001b[0;34m]\u001b[0m\u001b[0;34m)\u001b[0m\u001b[0;34m\u001b[0m\u001b[0m\n\u001b[0m\u001b[1;32m    303\u001b[0m \u001b[0;34m\u001b[0m\u001b[0m\n\u001b[1;32m    304\u001b[0m \u001b[0;32mif\u001b[0m \u001b[0m__name__\u001b[0m \u001b[0;34m==\u001b[0m \u001b[0;34m'__main__'\u001b[0m\u001b[0;34m:\u001b[0m\u001b[0;34m\u001b[0m\u001b[0m\n",
      "\u001b[0;31mNameError\u001b[0m: global name 'train_lex' is not defined"
     ]
    }
   ],
   "source": [
    "from hw4b import test_rnn_parity\n",
    "test_rnn_parity()"
   ]
  },
  {
   "cell_type": "code",
   "execution_count": null,
   "metadata": {
    "collapsed": true
   },
   "outputs": [],
   "source": []
  }
 ],
 "metadata": {
  "kernelspec": {
   "display_name": "Python 2",
   "language": "python",
   "name": "python2"
  },
  "language_info": {
   "codemirror_mode": {
    "name": "ipython",
    "version": 2
   },
   "file_extension": ".py",
   "mimetype": "text/x-python",
   "name": "python",
   "nbconvert_exporter": "python",
   "pygments_lexer": "ipython2",
   "version": "2.7.11"
  }
 },
 "nbformat": 4,
 "nbformat_minor": 0
}
