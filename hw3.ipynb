{
 "cells": [
  {
   "cell_type": "markdown",
   "metadata": {},
   "source": [
    "## ECBM E6040 Homework 3 - Programming Problem"
   ]
  },
  {
   "cell_type": "code",
   "execution_count": 3,
   "metadata": {
    "collapsed": false
   },
   "outputs": [],
   "source": [
    "import matplotlib.pyplot as plt\n",
    "import pylab\n",
    "%matplotlib inline"
   ]
  },
  {
   "cell_type": "markdown",
   "metadata": {},
   "source": [
    "### Problem a: Regularization Methods for Neural Network\n",
    "For this part the parameters are : learning_rate=0.01, n_epochs=50, batch_size=128, n_hidden=500, n_hiddenLayers=3 and no regularization.\n",
    "\n",
    "#### Bullet 1: Implement a MLP"
   ]
  },
  {
   "cell_type": "markdown",
   "metadata": {},
   "source": [
    "##### Test with small dataset"
   ]
  },
  {
   "cell_type": "code",
   "execution_count": 2,
   "metadata": {
    "collapsed": false
   },
   "outputs": [
    {
     "name": "stdout",
     "output_type": "stream",
     "text": [
      "Downloading data from http://ufldl.stanford.edu/housenumbers/train_32x32.mat\n",
      "Downloading data from http://ufldl.stanford.edu/housenumbers/test_32x32.mat\n",
      "... building the model\n",
      "... training\n",
      "Optimization complete."
     ]
    },
    {
     "name": "stderr",
     "output_type": "stream",
     "text": [
      "Using gpu device 0: GRID K520\n",
      "The training process for function test_mlp ran for 0.40m"
     ]
    },
    {
     "name": "stdout",
     "output_type": "stream",
     "text": [
      "\n",
      "Best validation score of 60.085227 % obtained at iteration 5150, with test performance 60.375616 %\n"
     ]
    },
    {
     "name": "stderr",
     "output_type": "stream",
     "text": [
      "\n"
     ]
    }
   ],
   "source": [
    "from hw3a import test_mlp\n",
    "test_mlp(learning_rate=0.01, L1_reg=0.00, L2_reg=0.0000, n_epochs=50,\n",
    "             batch_size=128, n_hidden=500, n_hiddenLayers=3,\n",
    "             verbose=False, smaller_set=True)"
   ]
  },
  {
   "cell_type": "markdown",
   "metadata": {},
   "source": [
    "##### Test with the original dataset"
   ]
  },
  {
   "cell_type": "code",
   "execution_count": 3,
   "metadata": {
    "collapsed": false
   },
   "outputs": [
    {
     "name": "stdout",
     "output_type": "stream",
     "text": [
      "... building the model\n",
      "... training\n",
      "Optimization complete.\n",
      "Best validation score of 35.800439 % obtained at iteration 9785, with test performance 38.242765 %\n"
     ]
    },
    {
     "name": "stderr",
     "output_type": "stream",
     "text": [
      "The training process for function test_mlp ran for 0.62m\n"
     ]
    }
   ],
   "source": [
    "test_mlp(learning_rate=0.01, L1_reg=0.00, L2_reg=0.0000, n_epochs=50,\n",
    "             batch_size=128, n_hidden=500, n_hiddenLayers=3,\n",
    "             verbose=False, smaller_set=False)"
   ]
  },
  {
   "cell_type": "markdown",
   "metadata": {},
   "source": [
    "The small dataset has more bias than the original one."
   ]
  },
  {
   "cell_type": "markdown",
   "metadata": {},
   "source": [
    "#### Bullet 2: Experiment with noise injection at input"
   ]
  },
  {
   "cell_type": "markdown",
   "metadata": {},
   "source": [
    "We add to the inputs a Gaussian noise $Z\\sim N(0,\\sigma)$"
   ]
  },
  {
   "cell_type": "markdown",
   "metadata": {},
   "source": [
    "##### $\\sigma=1$"
   ]
  },
  {
   "cell_type": "code",
   "execution_count": 4,
   "metadata": {
    "collapsed": false
   },
   "outputs": [
    {
     "name": "stdout",
     "output_type": "stream",
     "text": [
      "... building the model\n",
      "... training\n",
      "Optimization complete.\n",
      "Best validation score of 77.982955 % obtained at iteration 5150, with test performance 77.601601 %\n"
     ]
    },
    {
     "name": "stderr",
     "output_type": "stream",
     "text": [
      "The training process for function test_noise_inject_at_input ran for 0.54m\n"
     ]
    }
   ],
   "source": [
    "from hw3a import test_noise_inject_at_input\n",
    "test_noise_inject_at_input(learning_rate=0.01, L1_reg=0.00,\n",
    "             L2_reg=0.000, n_epochs=50,\n",
    "             batch_size=128, n_hidden=500, n_hiddenLayers=3,\n",
    "             verbose=False,noise=1)"
   ]
  },
  {
   "cell_type": "markdown",
   "metadata": {},
   "source": [
    "##### $\\sigma=10$"
   ]
  },
  {
   "cell_type": "code",
   "execution_count": 5,
   "metadata": {
    "collapsed": false
   },
   "outputs": [
    {
     "name": "stdout",
     "output_type": "stream",
     "text": [
      "... building the model\n",
      "... training\n",
      "Optimization complete.\n",
      "Best validation score of 81.250000 % obtained at iteration 9270, with test performance 81.480911 %\n"
     ]
    },
    {
     "name": "stderr",
     "output_type": "stream",
     "text": [
      "The training process for function test_noise_inject_at_input ran for 0.54m\n"
     ]
    }
   ],
   "source": [
    "test_noise_inject_at_input(learning_rate=0.01, L1_reg=0.00,\n",
    "             L2_reg=0.000, n_epochs=50,\n",
    "             batch_size=128, n_hidden=500, n_hiddenLayers=3,\n",
    "             verbose=False,noise=10)"
   ]
  },
  {
   "cell_type": "markdown",
   "metadata": {},
   "source": [
    "##### $\\sigma=0.1$"
   ]
  },
  {
   "cell_type": "code",
   "execution_count": 6,
   "metadata": {
    "collapsed": false
   },
   "outputs": [
    {
     "name": "stdout",
     "output_type": "stream",
     "text": [
      "... building the model\n",
      "... training\n",
      "Optimization complete.\n",
      "Best validation score of 38.494318 % obtained at iteration 9785, with test performance 41.163793 %\n"
     ]
    },
    {
     "name": "stderr",
     "output_type": "stream",
     "text": [
      "The training process for function test_noise_inject_at_input ran for 0.59m\n"
     ]
    }
   ],
   "source": [
    "test_noise_inject_at_input(learning_rate=0.01, L1_reg=0.00,\n",
    "             L2_reg=0.000, n_epochs=50,\n",
    "             batch_size=128, n_hidden=500, n_hiddenLayers=3,\n",
    "             verbose=False,noise=0.1)"
   ]
  },
  {
   "cell_type": "markdown",
   "metadata": {},
   "source": [
    "As the variance goes down, the accuracy goes up.\n",
    "\n",
    "For  $\\sigma=0.1$, the injection at the inputs gives a better accuracy than the MLP with the small set."
   ]
  },
  {
   "cell_type": "markdown",
   "metadata": {},
   "source": [
    "#### Bullet 3: Experiment with noise injection at weights"
   ]
  },
  {
   "cell_type": "markdown",
   "metadata": {},
   "source": [
    "We add to the weights after update a Gaussian noise $Z\\sim N(0,\\sigma)$"
   ]
  },
  {
   "cell_type": "markdown",
   "metadata": {},
   "source": [
    "##### $\\sigma=1$"
   ]
  },
  {
   "cell_type": "code",
   "execution_count": 4,
   "metadata": {
    "collapsed": false
   },
   "outputs": [
    {
     "name": "stdout",
     "output_type": "stream",
     "text": [
      "... building the model\n",
      "... training\n",
      "Optimization complete.\n",
      "Best validation score of 82.599432 % obtained at iteration 103, with test performance 82.031250 %\n"
     ]
    },
    {
     "name": "stderr",
     "output_type": "stream",
     "text": [
      "The training process for function test_noise_injection_at_weight ran for 11.00m\n"
     ]
    }
   ],
   "source": [
    "from hw3a import test_noise_injection_at_weight\n",
    "test_noise_injection_at_weight(learning_rate=0.01, L1_reg=0.00,\n",
    "             L2_reg=0.000, n_epochs=50,\n",
    "             batch_size=128, n_hidden=500, n_hiddenLayers=3,\n",
    "             verbose=False,noise=1)"
   ]
  },
  {
   "cell_type": "markdown",
   "metadata": {},
   "source": [
    "##### $\\sigma=10$"
   ]
  },
  {
   "cell_type": "code",
   "execution_count": 8,
   "metadata": {
    "collapsed": false
   },
   "outputs": [
    {
     "name": "stdout",
     "output_type": "stream",
     "text": [
      "... building the model\n",
      "... training\n",
      "Optimization complete.\n",
      "Best validation score of 86.434659 % obtained at iteration 2266, with test performance 85.910560 %\n"
     ]
    },
    {
     "name": "stderr",
     "output_type": "stream",
     "text": [
      "The training process for function test_noise_injection_at_weight ran for 11.14m\n"
     ]
    }
   ],
   "source": [
    "test_noise_injection_at_weight(learning_rate=0.01, L1_reg=0.00,\n",
    "             L2_reg=0.000, n_epochs=50,\n",
    "             batch_size=128, n_hidden=500, n_hiddenLayers=3,\n",
    "             verbose=False,noise=10)"
   ]
  },
  {
   "cell_type": "markdown",
   "metadata": {},
   "source": [
    "##### $\\sigma=0.1$"
   ]
  },
  {
   "cell_type": "code",
   "execution_count": 3,
   "metadata": {
    "collapsed": false
   },
   "outputs": [
    {
     "name": "stdout",
     "output_type": "stream",
     "text": [
      "Downloading data from http://ufldl.stanford.edu/housenumbers/train_32x32.mat\n",
      "Downloading data from http://ufldl.stanford.edu/housenumbers/test_32x32.mat\n",
      "... building the model\n",
      "... training\n",
      "Optimization complete.\n",
      "Best validation score of 86.434659 % obtained at iteration 2163, with test performance 87.638547 %\n"
     ]
    },
    {
     "name": "stderr",
     "output_type": "stream",
     "text": [
      "The training process for function test_noise_injection_at_weight ran for 10.87m\n"
     ]
    }
   ],
   "source": [
    "test_noise_injection_at_weight(learning_rate=0.01, L1_reg=0.00,\n",
    "             L2_reg=0.000, n_epochs=50,\n",
    "             batch_size=128, n_hidden=500, n_hiddenLayers=3,\n",
    "             verbose=False,noise=0.1)"
   ]
  },
  {
   "cell_type": "markdown",
   "metadata": {},
   "source": [
    "Oddly, as the variance increases, the accuracy decreases. \n",
    "\n",
    "The effect of adding noise to the weights is to penalize large gradients of the outputs with respect to the weights.\n",
    "\n",
    "None of these models has a better accuracy than the model in (i)."
   ]
  },
  {
   "cell_type": "markdown",
   "metadata": {},
   "source": [
    "#### Bullet 4: Experiment with data augmentation"
   ]
  },
  {
   "cell_type": "code",
   "execution_count": 4,
   "metadata": {
    "collapsed": false,
    "scrolled": false
   },
   "outputs": [
    {
     "name": "stdout",
     "output_type": "stream",
     "text": [
      "... building the model\n",
      "... training\n",
      "Optimization complete.\n",
      "Best validation score of 37.073864 % obtained at iteration 9785, with test performance 38.970135 %\n"
     ]
    },
    {
     "name": "stderr",
     "output_type": "stream",
     "text": [
      "The training process for function test_data_augmentation ran for 0.58m\n"
     ]
    }
   ],
   "source": [
    "from hw3a import test_data_augmentation\n",
    "test_data_augmentation(learning_rate=0.01,\n",
    "             L1_reg=0.00, L2_reg=0.00, n_epochs=50,\n",
    "             batch_size=128, n_hidden=500, n_hiddenLayers=3,\n",
    "             verbose=False)\n"
   ]
  },
  {
   "cell_type": "markdown",
   "metadata": {},
   "source": [
    "Data augmentation gives a better accuracy than the small dataset model in (i) and gives the same performance as the large dataset model in (i)."
   ]
  },
  {
   "cell_type": "markdown",
   "metadata": {},
   "source": [
    "#### Bullet 5: Experiment with adversarial examples"
   ]
  },
  {
   "cell_type": "markdown",
   "metadata": {},
   "source": [
    "For this Experiment, we reduce the number of epochs : n_epochs=20. The model is the MLP with small dataset in (i). "
   ]
  },
  {
   "cell_type": "code",
   "execution_count": 13,
   "metadata": {
    "collapsed": false
   },
   "outputs": [
    {
     "name": "stdout",
     "output_type": "stream",
     "text": [
      "... building the model\n",
      "... training\n",
      "Optimization complete.\n",
      "Best validation score of 79.474432 % obtained at iteration 2060, with test performance 78.032635 %\n",
      "Being fooled at example number 46\n"
     ]
    },
    {
     "name": "stderr",
     "output_type": "stream",
     "text": [
      "The training process for function test_adversarial_example ran for 0.14m\n"
     ]
    }
   ],
   "source": [
    "from hw3a import test_adversarial_example\n",
    "probs,probsadv,Im,Imadv=test_adversarial_example(learning_rate=0.01, L1_reg=0.00, L2_reg=0.0000, n_epochs=20,\n",
    "             batch_size=128, n_hidden=500, n_hiddenLayers=3,\n",
    "             verbose=False, smaller_set=True)\n"
   ]
  },
  {
   "cell_type": "markdown",
   "metadata": {},
   "source": [
    "In the example number 46, the MLP predicted right (Digit \"1\"). However, adding $0.001\\cdot sgn(\\nabla_xL)$ to the inputs gives a bad prediction (predict \"2\" instead).\n",
    "\n",
    "The images are displayed below"
   ]
  },
  {
   "cell_type": "code",
   "execution_count": 17,
   "metadata": {
    "collapsed": false
   },
   "outputs": [
    {
     "data": {
      "text/plain": [
       "<matplotlib.text.Text at 0x7fd3973baf90>"
      ]
     },
     "execution_count": 17,
     "metadata": {},
     "output_type": "execute_result"
    },
    {
     "data": {
      "image/png": "[encoded data removed]",
      "text/plain": [
       "<matplotlib.figure.Figure at 0x7fd3971b08d0>"
      ]
     },
     "metadata": {},
     "output_type": "display_data"
    }
   ],
   "source": [
    "plt.imshow(Im,interpolation=\"none\")\n",
    "plt.title(\"Clean Example\")"
   ]
  },
  {
   "cell_type": "code",
   "execution_count": 18,
   "metadata": {
    "collapsed": false
   },
   "outputs": [
    {
     "data": {
      "text/plain": [
       "<matplotlib.text.Text at 0x7fd39d564d10>"
      ]
     },
     "execution_count": 18,
     "metadata": {},
     "output_type": "execute_result"
    },
    {
     "data": {
      "image/png": "[encoded data removed]",
      "text/plain": [
       "<matplotlib.figure.Figure at 0x7fd3973d6250>"
      ]
     },
     "metadata": {},
     "output_type": "display_data"
    }
   ],
   "source": [
    "plt.imshow(Imadv,interpolation=\"none\")\n",
    "plt.title(\"Adversarial Example\")"
   ]
  },
  {
   "cell_type": "markdown",
   "metadata": {},
   "source": [
    "The barplots are displayed below"
   ]
  },
  {
   "cell_type": "code",
   "execution_count": 21,
   "metadata": {
    "collapsed": false
   },
   "outputs": [
    {
     "data": {
      "text/plain": [
       "<matplotlib.legend.Legend at 0x7fd3a08663d0>"
      ]
     },
     "execution_count": 21,
     "metadata": {},
     "output_type": "execute_result"
    },
    {
     "data": {
      "image/png": "[encoded data removed]",
      "text/plain": [
       "<matplotlib.figure.Figure at 0x7fd3895c7790>"
      ]
     },
     "metadata": {},
     "output_type": "display_data"
    }
   ],
   "source": [
    "import numpy as np\n",
    "x=np.arange(10)\n",
    "len(probs)\n",
    "plt.bar(x,probs)\n",
    "plt.bar(x,probsadv,color='red')\n",
    "plt.legend([\"Clean\",\"Adversarial\"])"
   ]
  },
  {
   "cell_type": "code",
   "execution_count": 12,
   "metadata": {
    "collapsed": false
   },
   "outputs": [
    {
     "data": {
      "text/plain": [
       "array([ 0.07015687,  0.15939119,  0.16074717,  0.13157597,  0.0997925 ,\n",
       "        0.10099588,  0.07384495,  0.0700397 ,  0.06220555,  0.07125017], dtype=float32)"
      ]
     },
     "execution_count": 12,
     "metadata": {},
     "output_type": "execute_result"
    }
   ],
   "source": [
    "probs"
   ]
  },
  {
   "cell_type": "markdown",
   "metadata": {},
   "source": [
    "### Problem b: Convolutional Neural Network\n",
    "\n",
    "In this problem, batch_size=200\n",
    "\n",
    "#### Bullet 1: Implement an CNN"
   ]
  },
  {
   "cell_type": "markdown",
   "metadata": {},
   "source": [
    "##### nkerns=[16,512]"
   ]
  },
  {
   "cell_type": "code",
   "execution_count": 2,
   "metadata": {
    "collapsed": false
   },
   "outputs": [
    {
     "name": "stdout",
     "output_type": "stream",
     "text": [
      "... building the model\n",
      "... training\n",
      "Optimization complete.\n",
      "Best validation score of 12.763889 % obtained at iteration 9870, with test performance 13.703846 %\n"
     ]
    },
    {
     "name": "stderr",
     "output_type": "stream",
     "text": [
      "The training process for function test_lenet ran for 10.74m\n"
     ]
    }
   ],
   "source": [
    "from hw3b import test_lenet\n",
    "test_lenet(learning_rate=0.01, n_epochs=50, nkerns=[16, 512],\n",
    "            batch_size=200, verbose=False)"
   ]
  },
  {
   "cell_type": "markdown",
   "metadata": {
    "collapsed": false
   },
   "source": [
    "###### nkerns=[30,960]"
   ]
  },
  {
   "cell_type": "code",
   "execution_count": 3,
   "metadata": {
    "collapsed": true
   },
   "outputs": [
    {
     "name": "stdout",
     "output_type": "stream",
     "text": [
      "... building the model\n",
      "... training\n",
      "training @ iter =  0\n",
      "training @ iter =  100\n",
      "training @ iter =  200\n",
      "training @ iter =  300\n",
      "epoch 1, minibatch 329/329, validation error 81.152778 %\n",
      "     epoch 1, minibatch 329/329, test error of best model 80.415385 %\n",
      "training @ iter =  400\n",
      "training @ iter =  500\n",
      "training @ iter =  600\n",
      "epoch 2, minibatch 329/329, validation error 81.152778 %\n",
      "training @ iter =  700\n",
      "training @ iter =  800\n",
      "training @ iter =  900\n",
      "epoch 3, minibatch 329/329, validation error 81.152778 %\n",
      "training @ iter =  1000\n",
      "training @ iter =  1100\n",
      "training @ iter =  1200\n",
      "training @ iter =  1300\n",
      "epoch 4, minibatch 329/329, validation error 81.152778 %\n",
      "training @ iter =  1400\n",
      "training @ iter =  1500\n",
      "training @ iter =  1600\n",
      "epoch 5, minibatch 329/329, validation error 80.458333 %\n",
      "     epoch 5, minibatch 329/329, test error of best model 79.826923 %\n",
      "training @ iter =  1700\n",
      "training @ iter =  1800\n",
      "training @ iter =  1900\n",
      "epoch 6, minibatch 329/329, validation error 78.722222 %\n",
      "     epoch 6, minibatch 329/329, test error of best model 78.096154 %\n",
      "training @ iter =  2000\n",
      "training @ iter =  2100\n",
      "training @ iter =  2200\n",
      "training @ iter =  2300\n",
      "epoch 7, minibatch 329/329, validation error 77.125000 %\n",
      "     epoch 7, minibatch 329/329, test error of best model 76.311538 %\n",
      "training @ iter =  2400\n",
      "training @ iter =  2500\n",
      "training @ iter =  2600\n",
      "epoch 8, minibatch 329/329, validation error 74.097222 %\n",
      "     epoch 8, minibatch 329/329, test error of best model 73.319231 %\n",
      "training @ iter =  2700\n",
      "training @ iter =  2800\n",
      "training @ iter =  2900\n",
      "epoch 9, minibatch 329/329, validation error 66.513889 %\n",
      "     epoch 9, minibatch 329/329, test error of best model 65.865385 %\n",
      "training @ iter =  3000\n",
      "training @ iter =  3100\n",
      "training @ iter =  3200\n",
      "epoch 10, minibatch 329/329, validation error 59.430556 %\n",
      "     epoch 10, minibatch 329/329, test error of best model 59.146154 %\n",
      "training @ iter =  3300\n",
      "training @ iter =  3400\n",
      "training @ iter =  3500\n",
      "training @ iter =  3600\n",
      "epoch 11, minibatch 329/329, validation error 50.361111 %\n",
      "     epoch 11, minibatch 329/329, test error of best model 50.761538 %\n",
      "training @ iter =  3700\n",
      "training @ iter =  3800\n",
      "training @ iter =  3900\n",
      "epoch 12, minibatch 329/329, validation error 41.736111 %\n",
      "     epoch 12, minibatch 329/329, test error of best model 41.184615 %\n",
      "training @ iter =  4000\n",
      "training @ iter =  4100\n",
      "training @ iter =  4200\n",
      "epoch 13, minibatch 329/329, validation error 33.597222 %\n",
      "     epoch 13, minibatch 329/329, test error of best model 32.950000 %\n",
      "training @ iter =  4300\n",
      "training @ iter =  4400\n",
      "training @ iter =  4500\n",
      "training @ iter =  4600\n",
      "epoch 14, minibatch 329/329, validation error 27.805556 %\n",
      "     epoch 14, minibatch 329/329, test error of best model 26.846154 %\n",
      "training @ iter =  4700\n",
      "training @ iter =  4800\n",
      "training @ iter =  4900\n",
      "epoch 15, minibatch 329/329, validation error 23.569444 %\n",
      "     epoch 15, minibatch 329/329, test error of best model 22.903846 %\n",
      "training @ iter =  5000\n",
      "training @ iter =  5100\n",
      "training @ iter =  5200\n",
      "epoch 16, minibatch 329/329, validation error 20.916667 %\n",
      "     epoch 16, minibatch 329/329, test error of best model 20.550000 %\n",
      "training @ iter =  5300\n",
      "training @ iter =  5400\n",
      "training @ iter =  5500\n",
      "epoch 17, minibatch 329/329, validation error 19.041667 %\n",
      "     epoch 17, minibatch 329/329, test error of best model 19.126923 %\n",
      "training @ iter =  5600\n",
      "training @ iter =  5700\n",
      "training @ iter =  5800\n",
      "training @ iter =  5900\n",
      "epoch 18, minibatch 329/329, validation error 17.847222 %\n",
      "     epoch 18, minibatch 329/329, test error of best model 18.011538 %\n",
      "training @ iter =  6000\n",
      "training @ iter =  6100\n",
      "training @ iter =  6200\n",
      "epoch 19, minibatch 329/329, validation error 16.902778 %\n",
      "     epoch 19, minibatch 329/329, test error of best model 17.261538 %\n",
      "training @ iter =  6300\n",
      "training @ iter =  6400\n",
      "training @ iter =  6500\n",
      "epoch 20, minibatch 329/329, validation error 16.138889 %\n",
      "     epoch 20, minibatch 329/329, test error of best model 16.607692 %\n",
      "training @ iter =  6600\n",
      "training @ iter =  6700\n",
      "training @ iter =  6800\n",
      "training @ iter =  6900\n",
      "epoch 21, minibatch 329/329, validation error 15.513889 %\n",
      "     epoch 21, minibatch 329/329, test error of best model 16.073077 %\n",
      "training @ iter =  7000\n",
      "training @ iter =  7100\n",
      "training @ iter =  7200\n",
      "epoch 22, minibatch 329/329, validation error 15.000000 %\n",
      "     epoch 22, minibatch 329/329, test error of best model 15.623077 %\n",
      "training @ iter =  7300\n",
      "training @ iter =  7400\n",
      "training @ iter =  7500\n",
      "epoch 23, minibatch 329/329, validation error 14.444444 %\n",
      "     epoch 23, minibatch 329/329, test error of best model 15.165385 %\n",
      "training @ iter =  7600\n",
      "training @ iter =  7700\n",
      "training @ iter =  7800\n",
      "epoch 24, minibatch 329/329, validation error 14.111111 %\n",
      "     epoch 24, minibatch 329/329, test error of best model 14.838462 %\n",
      "training @ iter =  7900\n",
      "training @ iter =  8000\n",
      "training @ iter =  8100\n",
      "training @ iter =  8200\n",
      "epoch 25, minibatch 329/329, validation error 13.805556 %\n",
      "     epoch 25, minibatch 329/329, test error of best model 14.488462 %\n",
      "training @ iter =  8300\n",
      "training @ iter =  8400\n",
      "training @ iter =  8500\n",
      "epoch 26, minibatch 329/329, validation error 13.416667 %\n",
      "     epoch 26, minibatch 329/329, test error of best model 14.103846 %\n",
      "training @ iter =  8600\n",
      "training @ iter =  8700\n",
      "training @ iter =  8800\n",
      "epoch 27, minibatch 329/329, validation error 13.152778 %\n",
      "     epoch 27, minibatch 329/329, test error of best model 13.884615 %\n",
      "training @ iter =  8900\n",
      "training @ iter =  9000\n",
      "training @ iter =  9100\n",
      "training @ iter =  9200\n",
      "epoch 28, minibatch 329/329, validation error 12.750000 %\n",
      "     epoch 28, minibatch 329/329, test error of best model 13.576923 %\n",
      "training @ iter =  9300\n",
      "training @ iter =  9400\n",
      "training @ iter =  9500\n",
      "epoch 29, minibatch 329/329, validation error 12.472222 %\n",
      "     epoch 29, minibatch 329/329, test error of best model 13.419231 %\n",
      "training @ iter =  9600\n",
      "training @ iter =  9700\n",
      "training @ iter =  9800\n",
      "epoch 30, minibatch 329/329, validation error 12.263889 %\n",
      "     epoch 30, minibatch 329/329, test error of best model 13.230769 %\n",
      "training @ iter =  9900\n",
      "training @ iter =  10000\n",
      "Optimization complete.\n",
      "Best validation score of 12.263889 % obtained at iteration 9870, with test performance 13.230769 %\n"
     ]
    },
    {
     "name": "stderr",
     "output_type": "stream",
     "text": [
      "The training process for function test_lenet ran for 30.22m\n"
     ]
    }
   ],
   "source": [
    "test_lenet(learning_rate=0.01, n_epochs=50, nkerns=[30 , 960],\n",
    "            batch_size=200, verbose=True)"
   ]
  },
  {
   "cell_type": "markdown",
   "metadata": {
    "collapsed": true
   },
   "source": [
    "Accuracy : 86.77%"
   ]
  },
  {
   "cell_type": "markdown",
   "metadata": {},
   "source": [
    "##### nkerns=[8,256]"
   ]
  },
  {
   "cell_type": "code",
   "execution_count": 4,
   "metadata": {
    "collapsed": false
   },
   "outputs": [
    {
     "name": "stdout",
     "output_type": "stream",
     "text": [
      "... building the model\n",
      "... training\n",
      "Optimization complete.\n",
      "Best validation score of 14.388889 % obtained at iteration 9870, with test performance 15.146154 %\n"
     ]
    },
    {
     "name": "stderr",
     "output_type": "stream",
     "text": [
      "The training process for function test_lenet ran for 4.61m\n"
     ]
    }
   ],
   "source": [
    "test_lenet(learning_rate=0.01, n_epochs=50, nkerns=[8, 256],\n",
    "            batch_size=200, verbose=False)"
   ]
  },
  {
   "cell_type": "markdown",
   "metadata": {},
   "source": [
    "Adding more filters will improve the accuracy"
   ]
  },
  {
   "cell_type": "markdown",
   "metadata": {},
   "source": [
    "#### Bullet 2: Implement a multi-stage CNN"
   ]
  },
  {
   "cell_type": "markdown",
   "metadata": {},
   "source": [
    "##### nkerns=[16,512,20]"
   ]
  },
  {
   "cell_type": "code",
   "execution_count": 22,
   "metadata": {
    "collapsed": false
   },
   "outputs": [
    {
     "name": "stdout",
     "output_type": "stream",
     "text": [
      "... building the model\n",
      "... training\n",
      "Optimization complete.\n",
      "Best validation score of 13.402778 % obtained at iteration 9870, with test performance 14.615385 %\n"
     ]
    },
    {
     "name": "stderr",
     "output_type": "stream",
     "text": [
      "The training process for function test_convnet ran for 14.88m\n"
     ]
    }
   ],
   "source": [
    "from hw3b import test_convnet\n",
    "test_convnet(learning_rate=0.01, n_epochs=50, nkerns=[16, 512, 20],\n",
    "        batch_size=200, verbose=False)"
   ]
  },
  {
   "cell_type": "markdown",
   "metadata": {
    "collapsed": true
   },
   "source": [
    "##### nkerns=[30,960,40]"
   ]
  },
  {
   "cell_type": "code",
   "execution_count": 2,
   "metadata": {
    "collapsed": false
   },
   "outputs": [
    {
     "name": "stdout",
     "output_type": "stream",
     "text": [
      "... building the model\n",
      "... training\n",
      "Optimization complete.\n",
      "Best validation score of 11.944444 % obtained at iteration 9870, with test performance 13.176923 %\n"
     ]
    },
    {
     "name": "stderr",
     "output_type": "stream",
     "text": [
      "The training process for function test_convnet ran for 45.71m\n"
     ]
    }
   ],
   "source": [
    "test_convnet(learning_rate=0.01, n_epochs=50, nkerns=[30, 960, 40],\n",
    "        batch_size=200, verbose=False)"
   ]
  },
  {
   "cell_type": "markdown",
   "metadata": {
    "collapsed": true
   },
   "source": [
    "##### nkerns=[8,256,10]"
   ]
  },
  {
   "cell_type": "code",
   "execution_count": 3,
   "metadata": {
    "collapsed": false
   },
   "outputs": [
    {
     "name": "stdout",
     "output_type": "stream",
     "text": [
      "... building the model\n",
      "... training\n",
      "Optimization complete.\n",
      "Best validation score of 13.513889 % obtained at iteration 12173, with test performance 14.696154 %\n"
     ]
    },
    {
     "name": "stderr",
     "output_type": "stream",
     "text": [
      "The training process for function test_convnet ran for 7.87m\n"
     ]
    }
   ],
   "source": [
    "test_convnet(learning_rate=0.01, n_epochs=50, nkerns=[8, 256, 10],\n",
    "        batch_size=200, verbose=False)"
   ]
  },
  {
   "cell_type": "markdown",
   "metadata": {},
   "source": [
    "Again, adding more filter will improve the model. However the ms-CNN not always gives a better accuracy than the CNN."
   ]
  },
  {
   "cell_type": "markdown",
   "metadata": {},
   "source": [
    "#### Bullet 3: Explain why the back-propogation algorithm works on ms-cnn"
   ]
  },
  {
   "cell_type": "markdown",
   "metadata": {
    "collapsed": true
   },
   "source": [
    "The ms-cnn is a case of Parameter Sharing and particularly Multi-Task Learning. The shared representation is layer 0 is associated with two tasks layer 1 and downsample layer 0.\n",
    "\n",
    "In this case, the propagation of the gradient still occurs as the chain rule still holds."
   ]
  },
  {
   "cell_type": "markdown",
   "metadata": {},
   "source": [
    "#### Bullet 4: Implement CNN plus MLP"
   ]
  },
  {
   "cell_type": "markdown",
   "metadata": {},
   "source": [
    "##### CNN+MLP\n"
   ]
  },
  {
   "cell_type": "code",
   "execution_count": 5,
   "metadata": {
    "collapsed": false
   },
   "outputs": [
    {
     "name": "stdout",
     "output_type": "stream",
     "text": [
      "... building the model\n",
      "... training\n",
      "Optimization complete.\n",
      "Best validation score of 37.861111 % obtained at iteration 9541, with test performance 39.530769 %\n"
     ]
    },
    {
     "name": "stderr",
     "output_type": "stream",
     "text": [
      "The training process for function test_CDNN ran for 4.88m\n"
     ]
    }
   ],
   "source": [
    "from hw3b import test_CDNN\n",
    "test_CDNN(learning_rate=0.01, n_epochs=50, nkerns=[16, 512],\n",
    "            batch_size=200,n_hidden=500, verbose=False)"
   ]
  },
  {
   "cell_type": "markdown",
   "metadata": {},
   "source": [
    "#### MLP with 4 hidden layers\n"
   ]
  },
  {
   "cell_type": "code",
   "execution_count": 8,
   "metadata": {
    "collapsed": false
   },
   "outputs": [
    {
     "name": "stdout",
     "output_type": "stream",
     "text": [
      "... building the model\n",
      "... training\n",
      "Optimization complete.\n",
      "Best validation score of 31.319444 % obtained at iteration 9870, with test performance 34.823077 %\n"
     ]
    },
    {
     "name": "stderr",
     "output_type": "stream",
     "text": [
      "The training process for function test_mlp ran for 0.88m\n"
     ]
    }
   ],
   "source": [
    "test_mlp(learning_rate=0.01, L1_reg=0.00, L2_reg=0.0000, n_epochs=50,\n",
    "             batch_size=200, n_hidden=500, n_hiddenLayers=4,\n",
    "             verbose=False, smaller_set=False)"
   ]
  },
  {
   "cell_type": "markdown",
   "metadata": {
    "collapsed": true
   },
   "source": [
    "The MLP still gives a better accuracy than the CDNN"
   ]
  },
  {
   "cell_type": "code",
   "execution_count": null,
   "metadata": {
    "collapsed": true
   },
   "outputs": [],
   "source": []
  }
 ],
 "metadata": {
  "kernelspec": {
   "display_name": "Python 3",
   "language": "python",
   "name": "python3"
  },
  "language_info": {
   "codemirror_mode": {
    "name": "ipython",
    "version": 3
   },
   "file_extension": ".py",
   "mimetype": "text/x-python",
   "name": "python",
   "nbconvert_exporter": "python",
   "pygments_lexer": "ipython3",
   "version": "3.4.4"
  }
 },
 "nbformat": 4,
 "nbformat_minor": 0
}
