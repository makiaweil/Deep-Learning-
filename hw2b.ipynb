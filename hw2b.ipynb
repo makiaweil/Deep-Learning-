{
 "cells": [
  {
   "cell_type": "markdown",
   "metadata": {},
   "source": [
    "# ECBM E6040 Homework 2 - Programming Problem"
   ]
  },
  {
   "cell_type": "code",
   "execution_count": 1,
   "metadata": {
    "collapsed": false
   },
   "outputs": [
    {
     "name": "stderr",
     "output_type": "stream",
     "text": [
      "Using gpu device 0: GRID K520\n"
     ]
    }
   ],
   "source": [
    "from hw2b import load_data, LogisticRegression, HiddenLayer, MLP, myMLP,test_mlp"
   ]
  },
  {
   "cell_type": "code",
   "execution_count": 2,
   "metadata": {
    "collapsed": true
   },
   "outputs": [],
   "source": [
    "import numpy\n",
    "import scipy.io\n",
    "import hw2b\n",
    "import theano\n",
    "import theano.tensor as T"
   ]
  },
  {
   "cell_type": "markdown",
   "metadata": {},
   "source": [
    "### Bullet 2: Comparison between _tanh_ and _softmax_"
   ]
  },
  {
   "cell_type": "code",
   "execution_count": 5,
   "metadata": {
    "collapsed": false
   },
   "outputs": [],
   "source": [
    " "
   ]
  },
  {
   "cell_type": "code",
   "execution_count": 3,
   "metadata": {
    "collapsed": false
   },
   "outputs": [
    {
     "name": "stdout",
     "output_type": "stream",
     "text": [
      "Downloading data from http://ufldl.stanford.edu/housenumbers/train_32x32.mat\n",
      "Downloading data from http://ufldl.stanford.edu/housenumbers/test_32x32.mat\n",
      "... loading data\n",
      "... building the model\n",
      "... training\n",
      "epoch 1, minibatch 3662/3662, validation error 78.633880 %\n",
      "     epoch 1, minibatch 3662/3662, test error of best model 78.828883 %\n",
      "epoch 2, minibatch 3662/3662, validation error 76.215847 %\n",
      "     epoch 2, minibatch 3662/3662, test error of best model 76.295510 %\n",
      "epoch 3, minibatch 3662/3662, validation error 72.554645 %\n",
      "     epoch 3, minibatch 3662/3662, test error of best model 72.528823 %\n",
      "epoch 4, minibatch 3662/3662, validation error 66.420765 %\n",
      "     epoch 4, minibatch 3662/3662, test error of best model 66.436590 %\n",
      "epoch 5, minibatch 3662/3662, validation error 60.286885 %\n",
      "     epoch 5, minibatch 3662/3662, test error of best model 60.333738 %\n",
      "epoch 6, minibatch 3662/3662, validation error 55.573770 %\n",
      "     epoch 6, minibatch 3662/3662, test error of best model 55.476335 %\n",
      "epoch 7, minibatch 3662/3662, validation error 51.065574 %\n",
      "     epoch 7, minibatch 3662/3662, test error of best model 50.881371 %\n",
      "epoch 8, minibatch 3662/3662, validation error 46.789617 %\n",
      "     epoch 8, minibatch 3662/3662, test error of best model 46.808252 %\n",
      "epoch 9, minibatch 3662/3662, validation error 43.251366 %\n",
      "     epoch 9, minibatch 3662/3662, test error of best model 43.431432 %\n",
      "epoch 10, minibatch 3662/3662, validation error 40.601093 %\n",
      "     epoch 10, minibatch 3662/3662, test error of best model 40.841930 %\n",
      "epoch 11, minibatch 3662/3662, validation error 38.866120 %\n",
      "     epoch 11, minibatch 3662/3662, test error of best model 38.762136 %\n",
      "epoch 12, minibatch 3662/3662, validation error 36.939891 %\n",
      "     epoch 12, minibatch 3662/3662, test error of best model 37.213289 %\n",
      "epoch 13, minibatch 3662/3662, validation error 35.737705 %\n",
      "     epoch 13, minibatch 3662/3662, test error of best model 35.881371 %\n",
      "epoch 14, minibatch 3662/3662, validation error 34.590164 %\n",
      "     epoch 14, minibatch 3662/3662, test error of best model 34.764867 %\n",
      "epoch 15, minibatch 3662/3662, validation error 33.551913 %\n",
      "     epoch 15, minibatch 3662/3662, test error of best model 33.897148 %\n",
      "epoch 16, minibatch 3662/3662, validation error 32.978142 %\n",
      "     epoch 16, minibatch 3662/3662, test error of best model 33.115898 %\n",
      "epoch 17, minibatch 3662/3662, validation error 32.445355 %\n",
      "     epoch 17, minibatch 3662/3662, test error of best model 32.506068 %\n",
      "epoch 18, minibatch 3662/3662, validation error 32.049180 %\n",
      "     epoch 18, minibatch 3662/3662, test error of best model 31.922027 %\n",
      "epoch 19, minibatch 3662/3662, validation error 31.434426 %\n",
      "     epoch 19, minibatch 3662/3662, test error of best model 31.356189 %\n",
      "epoch 20, minibatch 3662/3662, validation error 30.969945 %\n",
      "     epoch 20, minibatch 3662/3662, test error of best model 30.858617 %\n",
      "epoch 21, minibatch 3662/3662, validation error 30.300546 %\n",
      "     epoch 21, minibatch 3662/3662, test error of best model 30.418689 %\n",
      "epoch 22, minibatch 3662/3662, validation error 29.918033 %\n",
      "     epoch 22, minibatch 3662/3662, test error of best model 29.981796 %\n",
      "epoch 23, minibatch 3662/3662, validation error 29.385246 %\n",
      "     epoch 23, minibatch 3662/3662, test error of best model 29.596481 %\n",
      "epoch 24, minibatch 3662/3662, validation error 28.784153 %\n",
      "     epoch 24, minibatch 3662/3662, test error of best model 29.182342 %\n",
      "epoch 25, minibatch 3662/3662, validation error 28.306011 %\n",
      "     epoch 25, minibatch 3662/3662, test error of best model 28.816748 %\n",
      "epoch 26, minibatch 3662/3662, validation error 27.882514 %\n",
      "     epoch 26, minibatch 3662/3662, test error of best model 28.370752 %\n",
      "epoch 27, minibatch 3662/3662, validation error 27.650273 %\n",
      "     epoch 27, minibatch 3662/3662, test error of best model 28.018811 %\n",
      "epoch 28, minibatch 3662/3662, validation error 27.349727 %\n",
      "     epoch 28, minibatch 3662/3662, test error of best model 27.680522 %\n",
      "epoch 29, minibatch 3662/3662, validation error 27.062842 %\n",
      "     epoch 29, minibatch 3662/3662, test error of best model 27.334648 %\n",
      "epoch 30, minibatch 3662/3662, validation error 26.748634 %\n",
      "     epoch 30, minibatch 3662/3662, test error of best model 26.997876 %\n",
      "epoch 31, minibatch 3662/3662, validation error 26.502732 %\n",
      "     epoch 31, minibatch 3662/3662, test error of best model 26.635316 %\n",
      "epoch 32, minibatch 3662/3662, validation error 26.133880 %\n",
      "     epoch 32, minibatch 3662/3662, test error of best model 26.316748 %\n",
      "epoch 33, minibatch 3662/3662, validation error 25.942623 %\n",
      "     epoch 33, minibatch 3662/3662, test error of best model 25.989078 %\n",
      "epoch 34, minibatch 3662/3662, validation error 25.642077 %\n",
      "     epoch 34, minibatch 3662/3662, test error of best model 25.708434 %\n",
      "epoch 35, minibatch 3662/3662, validation error 25.409836 %\n",
      "     epoch 35, minibatch 3662/3662, test error of best model 25.499090 %\n",
      "epoch 36, minibatch 3662/3662, validation error 25.095628 %\n",
      "     epoch 36, minibatch 3662/3662, test error of best model 25.283677 %\n",
      "epoch 37, minibatch 3662/3662, validation error 24.672131 %\n",
      "     epoch 37, minibatch 3662/3662, test error of best model 25.010619 %\n",
      "epoch 38, minibatch 3662/3662, validation error 24.480874 %\n",
      "     epoch 38, minibatch 3662/3662, test error of best model 24.777002 %\n",
      "epoch 39, minibatch 3662/3662, validation error 24.139344 %\n",
      "     epoch 39, minibatch 3662/3662, test error of best model 24.516080 %\n",
      "epoch 40, minibatch 3662/3662, validation error 23.797814 %\n",
      "     epoch 40, minibatch 3662/3662, test error of best model 24.262743 %\n",
      "epoch 41, minibatch 3662/3662, validation error 23.551913 %\n",
      "     epoch 41, minibatch 3662/3662, test error of best model 24.056432 %\n",
      "epoch 42, minibatch 3662/3662, validation error 23.387978 %\n",
      "     epoch 42, minibatch 3662/3662, test error of best model 23.869842 %\n",
      "epoch 43, minibatch 3662/3662, validation error 23.087432 %\n",
      "     epoch 43, minibatch 3662/3662, test error of best model 23.634709 %\n",
      "epoch 44, minibatch 3662/3662, validation error 22.841530 %\n",
      "     epoch 44, minibatch 3662/3662, test error of best model 23.470874 %\n",
      "epoch 45, minibatch 3662/3662, validation error 22.732240 %\n",
      "     epoch 45, minibatch 3662/3662, test error of best model 23.314624 %\n",
      "epoch 46, minibatch 3662/3662, validation error 22.336066 %\n",
      "     epoch 46, minibatch 3662/3662, test error of best model 23.150789 %\n",
      "epoch 47, minibatch 3662/3662, validation error 22.199454 %\n",
      "     epoch 47, minibatch 3662/3662, test error of best model 23.026396 %\n",
      "epoch 48, minibatch 3662/3662, validation error 22.035519 %\n",
      "     epoch 48, minibatch 3662/3662, test error of best model 22.874697 %\n",
      "epoch 49, minibatch 3662/3662, validation error 21.912568 %\n",
      "     epoch 49, minibatch 3662/3662, test error of best model 22.739684 %\n",
      "epoch 50, minibatch 3662/3662, validation error 21.653005 %\n",
      "     epoch 50, minibatch 3662/3662, test error of best model 22.619842 %\n",
      "epoch 51, minibatch 3662/3662, validation error 21.584699 %\n",
      "     epoch 51, minibatch 3662/3662, test error of best model 22.463592 %\n",
      "epoch 52, minibatch 3662/3662, validation error 21.420765 %\n",
      "     epoch 52, minibatch 3662/3662, test error of best model 22.346784 %\n",
      "epoch 53, minibatch 3662/3662, validation error 21.393443 %\n",
      "     epoch 53, minibatch 3662/3662, test error of best model 22.222391 %\n",
      "epoch 54, minibatch 3662/3662, validation error 21.297814 %\n",
      "     epoch 54, minibatch 3662/3662, test error of best model 22.088896 %\n",
      "epoch 55, minibatch 3662/3662, validation error 21.215847 %\n",
      "     epoch 55, minibatch 3662/3662, test error of best model 21.962985 %\n",
      "epoch 56, minibatch 3662/3662, validation error 21.120219 %\n",
      "     epoch 56, minibatch 3662/3662, test error of best model 21.844660 %\n",
      "epoch 57, minibatch 3662/3662, validation error 20.983607 %\n",
      "     epoch 57, minibatch 3662/3662, test error of best model 21.767294 %\n",
      "epoch 58, minibatch 3662/3662, validation error 20.901639 %\n",
      "     epoch 58, minibatch 3662/3662, test error of best model 21.647451 %\n",
      "epoch 59, minibatch 3662/3662, validation error 20.724044 %\n",
      "     epoch 59, minibatch 3662/3662, test error of best model 21.582221 %\n",
      "epoch 60, minibatch 3662/3662, validation error 20.642077 %\n",
      "     epoch 60, minibatch 3662/3662, test error of best model 21.497269 %\n",
      "epoch 61, minibatch 3662/3662, validation error 20.614754 %\n",
      "     epoch 61, minibatch 3662/3662, test error of best model 21.429005 %\n",
      "epoch 62, minibatch 3662/3662, validation error 20.519126 %\n",
      "     epoch 62, minibatch 3662/3662, test error of best model 21.334951 %\n",
      "epoch 63, minibatch 3662/3662, validation error 20.423497 %\n",
      "     epoch 63, minibatch 3662/3662, test error of best model 21.266687 %\n",
      "epoch 64, minibatch 3662/3662, validation error 20.368852 %\n",
      "     epoch 64, minibatch 3662/3662, test error of best model 21.199939 %\n",
      "epoch 65, minibatch 3662/3662, validation error 20.245902 %\n",
      "     epoch 65, minibatch 3662/3662, test error of best model 21.118022 %\n",
      "epoch 66, minibatch 3662/3662, validation error 20.191257 %\n",
      "     epoch 66, minibatch 3662/3662, test error of best model 21.025485 %\n",
      "epoch 67, minibatch 3662/3662, validation error 20.095628 %\n",
      "     epoch 67, minibatch 3662/3662, test error of best model 20.945085 %\n",
      "epoch 68, minibatch 3662/3662, validation error 20.040984 %\n",
      "     epoch 68, minibatch 3662/3662, test error of best model 20.852549 %\n",
      "epoch 69, minibatch 3662/3662, validation error 19.986339 %\n",
      "     epoch 69, minibatch 3662/3662, test error of best model 20.784284 %\n",
      "epoch 70, minibatch 3662/3662, validation error 19.877049 %\n",
      "     epoch 70, minibatch 3662/3662, test error of best model 20.719053 %\n",
      "epoch 71, minibatch 3662/3662, validation error 19.849727 %\n",
      "     epoch 71, minibatch 3662/3662, test error of best model 20.646238 %\n",
      "epoch 72, minibatch 3662/3662, validation error 19.795082 %\n",
      "     epoch 72, minibatch 3662/3662, test error of best model 20.588592 %\n",
      "epoch 73, minibatch 3662/3662, validation error 19.644809 %\n",
      "     epoch 73, minibatch 3662/3662, test error of best model 20.546117 %\n",
      "epoch 74, minibatch 3662/3662, validation error 19.576503 %\n",
      "     epoch 74, minibatch 3662/3662, test error of best model 20.502124 %\n",
      "epoch 75, minibatch 3662/3662, validation error 19.480874 %\n",
      "     epoch 75, minibatch 3662/3662, test error of best model 20.461165 %\n",
      "epoch 76, minibatch 3662/3662, validation error 19.508197 %\n",
      "epoch 77, minibatch 3662/3662, validation error 19.480874 %\n",
      "epoch 78, minibatch 3662/3662, validation error 19.521858 %\n",
      "epoch 79, minibatch 3662/3662, validation error 19.535519 %\n",
      "epoch 80, minibatch 3662/3662, validation error 19.508197 %\n",
      "epoch 81, minibatch 3662/3662, validation error 19.453552 %\n",
      "     epoch 81, minibatch 3662/3662, test error of best model 20.204794 %\n",
      "epoch 82, minibatch 3662/3662, validation error 19.385246 %\n",
      "     epoch 82, minibatch 3662/3662, test error of best model 20.141080 %\n",
      "epoch 83, minibatch 3662/3662, validation error 19.262295 %\n",
      "     epoch 83, minibatch 3662/3662, test error of best model 20.098604 %\n",
      "epoch 84, minibatch 3662/3662, validation error 19.166667 %\n",
      "     epoch 84, minibatch 3662/3662, test error of best model 20.048544 %\n",
      "epoch 85, minibatch 3662/3662, validation error 19.125683 %\n",
      "     epoch 85, minibatch 3662/3662, test error of best model 19.996966 %\n",
      "epoch 86, minibatch 3662/3662, validation error 19.071038 %\n",
      "     epoch 86, minibatch 3662/3662, test error of best model 19.954490 %\n",
      "epoch 87, minibatch 3662/3662, validation error 19.043716 %\n",
      "     epoch 87, minibatch 3662/3662, test error of best model 19.921117 %\n",
      "epoch 88, minibatch 3662/3662, validation error 19.030055 %\n",
      "     epoch 88, minibatch 3662/3662, test error of best model 19.886226 %\n",
      "epoch 89, minibatch 3662/3662, validation error 18.961749 %\n",
      "     epoch 89, minibatch 3662/3662, test error of best model 19.830097 %\n",
      "epoch 90, minibatch 3662/3662, validation error 18.961749 %\n",
      "epoch 91, minibatch 3662/3662, validation error 18.975410 %\n",
      "epoch 92, minibatch 3662/3662, validation error 18.920765 %\n",
      "     epoch 92, minibatch 3662/3662, test error of best model 19.772451 %\n",
      "epoch 93, minibatch 3662/3662, validation error 18.811475 %\n",
      "     epoch 93, minibatch 3662/3662, test error of best model 19.737561 %\n",
      "epoch 94, minibatch 3662/3662, validation error 18.756831 %\n",
      "     epoch 94, minibatch 3662/3662, test error of best model 19.719357 %\n",
      "epoch 95, minibatch 3662/3662, validation error 18.715847 %\n",
      "     epoch 95, minibatch 3662/3662, test error of best model 19.678398 %\n",
      "epoch 96, minibatch 3662/3662, validation error 18.715847 %\n",
      "epoch 97, minibatch 3662/3662, validation error 18.702186 %\n",
      "     epoch 97, minibatch 3662/3662, test error of best model 19.610133 %\n",
      "epoch 98, minibatch 3662/3662, validation error 18.633880 %\n",
      "     epoch 98, minibatch 3662/3662, test error of best model 19.581311 %\n",
      "epoch 99, minibatch 3662/3662, validation error 18.524590 %\n",
      "     epoch 99, minibatch 3662/3662, test error of best model 19.564624 %\n",
      "epoch 100, minibatch 3662/3662, validation error 18.538251 %\n",
      "Optimization complete. Best validation score of 18.524590 % obtained at iteration 362538, with test performance 19.564624 %\n"
     ]
    },
    {
     "name": "stderr",
     "output_type": "stream",
     "text": [
      "The code for file hw2b.py ran for 35.66m\n"
     ]
    }
   ],
   "source": [
    "test_tan=test_mlp(n_hidden=1000,n_epochs=100)\n"
   ]
  },
  {
   "cell_type": "code",
   "execution_count": 4,
   "metadata": {
    "collapsed": false
   },
   "outputs": [
    {
     "data": {
      "text/plain": [
       "80.435376213592235"
      ]
     },
     "execution_count": 4,
     "metadata": {},
     "output_type": "execute_result"
    }
   ],
   "source": [
    "test_tan"
   ]
  },
  {
   "cell_type": "code",
   "execution_count": 5,
   "metadata": {
    "collapsed": false
   },
   "outputs": [
    {
     "name": "stdout",
     "output_type": "stream",
     "text": [
      "... loading data\n",
      "... building the model\n",
      "... training\n",
      "epoch 1, minibatch 3662/3662, validation error 81.161202 %\n",
      "     epoch 1, minibatch 3662/3662, test error of best model 81.070995 %\n",
      "epoch 2, minibatch 3662/3662, validation error 81.161202 %\n",
      "Optimization complete. Best validation score of 81.161202 % obtained at iteration 3662, with test performance 81.070995 %\n"
     ]
    },
    {
     "name": "stderr",
     "output_type": "stream",
     "text": [
      "The code for file hw2b.py ran for 0.87m\n"
     ]
    }
   ],
   "source": [
    "test_soft=test_mlp(activ=T.nnet.softmax,n_hidden=1000,n_epochs=100)"
   ]
  },
  {
   "cell_type": "code",
   "execution_count": 6,
   "metadata": {
    "collapsed": false
   },
   "outputs": [
    {
     "data": {
      "text/plain": [
       "18.929004854368927"
      ]
     },
     "execution_count": 6,
     "metadata": {},
     "output_type": "execute_result"
    }
   ],
   "source": [
    "test_soft\n"
   ]
  },
  {
   "cell_type": "code",
   "execution_count": null,
   "metadata": {
    "collapsed": true
   },
   "outputs": [],
   "source": [
    "# n_hidden=1000,n_epochs=100, other parameters are default parameters from test_mlp()\n",
    "# The tanh activation function gives a much more performant MLP than the softmax\n",
    "# The softmax works like a probability distribution over a finite set of outcomes. It is more likely\n",
    "# to output the last hidden layer but not to perform a non-linear transformation"
   ]
  },
  {
   "cell_type": "markdown",
   "metadata": {},
   "source": [
    "### Bullet 3: Experiment with the number of hidden layers"
   ]
  },
  {
   "cell_type": "code",
   "execution_count": 6,
   "metadata": {
    "collapsed": false
   },
   "outputs": [],
   "source": [
    "hl=numpy.arange(1,9)"
   ]
  },
  {
   "cell_type": "code",
   "execution_count": 15,
   "metadata": {
    "collapsed": false
   },
   "outputs": [
    {
     "name": "stdout",
     "output_type": "stream",
     "text": [
      "... loading data\n",
      "... building the model\n",
      "... training\n",
      "Optimization complete. Best validation score of 20.986301 % obtained at iteration 98850, with test performance 21.869231 %\n",
      "... loading data\n",
      "... building the model\n",
      "... training\n",
      "Optimization complete. Best validation score of 17.767123 % obtained at iteration 98850, with test performance 19.411538 %"
     ]
    },
    {
     "name": "stderr",
     "output_type": "stream",
     "text": [
      "The code for file hw2b.py ran for 8.62m\n",
      "The code for file hw2b.py ran for 9.84m"
     ]
    },
    {
     "name": "stdout",
     "output_type": "stream",
     "text": [
      "\n",
      "... loading data\n",
      "... building the model\n",
      "... training\n",
      "Optimization complete. Best validation score of 16.369863 % obtained at iteration 92260, with test performance 18.176923 %"
     ]
    },
    {
     "name": "stderr",
     "output_type": "stream",
     "text": [
      "\n",
      "The code for file hw2b.py ran for 11.13m"
     ]
    },
    {
     "name": "stdout",
     "output_type": "stream",
     "text": [
      "\n",
      "... loading data\n",
      "... building the model\n",
      "... training\n",
      "Optimization complete. Best validation score of 16.739726 % obtained at iteration 84352, with test performance 18.930769 %"
     ]
    },
    {
     "name": "stderr",
     "output_type": "stream",
     "text": [
      "\n",
      "The code for file hw2b.py ran for 12.43m"
     ]
    },
    {
     "name": "stdout",
     "output_type": "stream",
     "text": [
      "\n",
      "... loading data\n",
      "... building the model\n",
      "... training\n",
      "Optimization complete. Best validation score of 17.849315 % obtained at iteration 47448, with test performance 19.634615 %"
     ]
    },
    {
     "name": "stderr",
     "output_type": "stream",
     "text": [
      "\n",
      "The code for file hw2b.py ran for 11.27m"
     ]
    },
    {
     "name": "stdout",
     "output_type": "stream",
     "text": [
      "\n",
      "... loading data\n",
      "... building the model\n",
      "... training\n",
      "Optimization complete. Best validation score of 17.643836 % obtained at iteration 94896, with test performance 20.038462 %"
     ]
    },
    {
     "name": "stderr",
     "output_type": "stream",
     "text": [
      "\n",
      "The code for file hw2b.py ran for 15.00m"
     ]
    },
    {
     "name": "stdout",
     "output_type": "stream",
     "text": [
      "\n",
      "... loading data\n",
      "... building the model\n",
      "... training\n",
      "Optimization complete. Best validation score of 17.698630 % obtained at iteration 94896, with test performance 20.857692 %"
     ]
    },
    {
     "name": "stderr",
     "output_type": "stream",
     "text": [
      "\n",
      "The code for file hw2b.py ran for 16.26m"
     ]
    },
    {
     "name": "stdout",
     "output_type": "stream",
     "text": [
      "\n",
      "... loading data\n",
      "... building the model\n",
      "... training\n",
      "Optimization complete. Best validation score of 17.986301 % obtained at iteration 71172, with test performance 21.788462 %"
     ]
    },
    {
     "name": "stderr",
     "output_type": "stream",
     "text": [
      "\n",
      "The code for file hw2b.py ran for 17.26m"
     ]
    },
    {
     "name": "stdout",
     "output_type": "stream",
     "text": [
      "\n"
     ]
    },
    {
     "name": "stderr",
     "output_type": "stream",
     "text": [
      "\n"
     ]
    }
   ],
   "source": [
    "tests=numpy.vectorize(test_mlp)\n",
    "t=[test_mlp(depth=h,verbose=False,n_hidden=300,n_epochs=75,learning_rate=0.01,L2_reg=0.00001,L1_reg=0.00001,batch_size=50) for h in hl]"
   ]
  },
  {
   "cell_type": "markdown",
   "metadata": {},
   "source": [
    "Plot the result (reproducing Figure 1)"
   ]
  },
  {
   "cell_type": "code",
   "execution_count": 16,
   "metadata": {
    "collapsed": false
   },
   "outputs": [
    {
     "name": "stderr",
     "output_type": "stream",
     "text": [
      "/home/ubuntu/miniconda2/envs/theano/lib/python2.7/site-packages/matplotlib/font_manager.py:273: UserWarning: Matplotlib is building the font cache using fc-list. This may take a moment.\n",
      "  warnings.warn('Matplotlib is building the font cache using fc-list. This may take a moment.')\n"
     ]
    },
    {
     "data": {
      "image/png": "[encoded data removed]",
      "text/plain": [
       "<matplotlib.figure.Figure at 0x7f5e4f951190>"
      ]
     },
     "metadata": {},
     "output_type": "display_data"
    }
   ],
   "source": [
    "%matplotlib inline\n",
    "import matplotlib.pyplot as plt\n",
    "plt.plot(hl+2,t,marker='o')\n",
    "plt.xlabel('Number of Layers')\n",
    "plt.ylabel('Test Accuracy, [%]')\n",
    "plt.title('MLP on SVHN Dataset')\n",
    "plt.grid(True)"
   ]
  },
  {
   "cell_type": "markdown",
   "metadata": {},
   "source": [
    "Document the choice of parameters, and discuss what you discover."
   ]
  },
  {
   "cell_type": "code",
   "execution_count": 12,
   "metadata": {
    "collapsed": true
   },
   "outputs": [],
   "source": [
    "# n_hidden=300,n_epochs=75,learning_rate=0.01,L2_reg=0.00001,L1_reg=0.00001,batch_size=50\n",
    "# The plot does not look like the plot expected in Figure 1\n",
    "# It may be due to overfitting"
   ]
  },
  {
   "cell_type": "markdown",
   "metadata": {},
   "source": [
    "### Bullet 4: Experiment with the number of hidden layers, but fix the total number of neurons"
   ]
  },
  {
   "cell_type": "code",
   "execution_count": 9,
   "metadata": {
    "collapsed": false
   },
   "outputs": [
    {
     "name": "stdout",
     "output_type": "stream",
     "text": [
      "... loading data\n",
      "... building the model\n",
      "... training\n",
      "Optimization complete. Best validation score of 25.780822 % obtained at iteration 32950, with test performance 26.661538 %\n",
      "... loading data\n",
      "... building the model\n",
      "... training\n",
      "Optimization complete. Best validation score of 18.643836 % obtained at iteration 32950, with test performance 19.957692 %"
     ]
    },
    {
     "name": "stderr",
     "output_type": "stream",
     "text": [
      "The code for file hw2b.py ran for 19.01m\n",
      "The code for file hw2b.py ran for 14.05m"
     ]
    },
    {
     "name": "stdout",
     "output_type": "stream",
     "text": [
      "\n",
      "... loading data\n",
      "... building the model\n",
      "... training\n",
      "Optimization complete. Best validation score of 16.684932 % obtained at iteration 30973, with test performance 18.492308 %"
     ]
    },
    {
     "name": "stderr",
     "output_type": "stream",
     "text": [
      "\n",
      "The code for file hw2b.py ran for 10.64m"
     ]
    },
    {
     "name": "stdout",
     "output_type": "stream",
     "text": [
      "\n",
      "... loading data\n",
      "... building the model\n",
      "... training\n",
      "Optimization complete. Best validation score of 16.397260 % obtained at iteration 32950, with test performance 18.707692 %"
     ]
    },
    {
     "name": "stderr",
     "output_type": "stream",
     "text": [
      "\n",
      "The code for file hw2b.py ran for 9.12m"
     ]
    },
    {
     "name": "stdout",
     "output_type": "stream",
     "text": [
      "\n",
      "... loading data\n",
      "... building the model\n",
      "... training\n",
      "Optimization complete. Best validation score of 16.972603 % obtained at iteration 25701, with test performance 18.815385 %"
     ]
    },
    {
     "name": "stderr",
     "output_type": "stream",
     "text": [
      "\n",
      "The code for file hw2b.py ran for 7.69m"
     ]
    },
    {
     "name": "stdout",
     "output_type": "stream",
     "text": [
      "\n",
      "... loading data\n",
      "... building the model\n",
      "... training\n",
      "Optimization complete. Best validation score of 17.054795 % obtained at iteration 30973, with test performance 19.703846 %"
     ]
    },
    {
     "name": "stderr",
     "output_type": "stream",
     "text": [
      "\n",
      "The code for file hw2b.py ran for 7.08m"
     ]
    },
    {
     "name": "stdout",
     "output_type": "stream",
     "text": [
      "\n",
      "... loading data\n",
      "... building the model\n",
      "... training\n",
      "Optimization complete. Best validation score of 17.561644 % obtained at iteration 24383, with test performance 20.430769 %"
     ]
    },
    {
     "name": "stderr",
     "output_type": "stream",
     "text": [
      "\n",
      "The code for file hw2b.py ran for 6.20m"
     ]
    },
    {
     "name": "stdout",
     "output_type": "stream",
     "text": [
      "\n",
      "... loading data\n",
      "... building the model\n",
      "... training\n",
      "Optimization complete. Best validation score of 18.232877 % obtained at iteration 31632, with test performance 20.323077 %"
     ]
    },
    {
     "name": "stderr",
     "output_type": "stream",
     "text": [
      "\n",
      "The code for file hw2b.py ran for 6.68m"
     ]
    },
    {
     "name": "stdout",
     "output_type": "stream",
     "text": [
      "\n"
     ]
    },
    {
     "name": "stderr",
     "output_type": "stream",
     "text": [
      "\n"
     ]
    }
   ],
   "source": [
    "n_neurons =2400\n",
    "t2=[test_mlp(depth=h,n_hidden=n_neurons//h,n_epochs=50,learning_rate=0.02,L2_reg=0.00001,L1_reg=0.00001,batch_size=100,verbose=False) for h in hl]"
   ]
  },
  {
   "cell_type": "markdown",
   "metadata": {},
   "source": [
    "Plot the result (reproducing Figure 2)"
   ]
  },
  {
   "cell_type": "code",
   "execution_count": 10,
   "metadata": {
    "collapsed": false
   },
   "outputs": [
    {
     "data": {
      "image/png": "[encoded data removed]",
      "text/plain": [
       "<matplotlib.figure.Figure at 0x7efd82ef0d10>"
      ]
     },
     "metadata": {},
     "output_type": "display_data"
    }
   ],
   "source": [
    "%matplotlib inline\n",
    "import matplotlib.pyplot as plt\n",
    "plt.plot(hl,t2,marker='o')\n",
    "plt.xlabel('Number of Hidden Layers')\n",
    "plt.ylabel('Test Accuracy, [%]')\n",
    "plt.title('Effect of Number of Layers \\n Total Number of Parameters in Hidden Layers is fixed to '+str(n_neurons))\n",
    "plt.grid(True)"
   ]
  },
  {
   "cell_type": "markdown",
   "metadata": {},
   "source": [
    "Document the choice of parameters, and discuss what you discover."
   ]
  },
  {
   "cell_type": "code",
   "execution_count": null,
   "metadata": {
    "collapsed": true
   },
   "outputs": [],
   "source": [
    "# n=2400, n_epochs=50,learning_rate=0.02,L2_reg=0.00001,L1_reg=0.00001,batch_size=100\n",
    "# As seen in Figure 2, for a fixed total number of neurons, the performance is a concave function of the number\n",
    "# of hidden layers. Therefore, there seems to be an optimal number of hidden layers\n",
    "# which the accuracy is maximum"
   ]
  },
  {
   "cell_type": "markdown",
   "metadata": {},
   "source": [
    "### Bullet 5: Experiment with the number of neurons in hidden layers, but fix the number of hidden layers"
   ]
  },
  {
   "cell_type": "code",
   "execution_count": 3,
   "metadata": {
    "collapsed": false,
    "scrolled": true
   },
   "outputs": [
    {
     "name": "stdout",
     "output_type": "stream",
     "text": [
      "Downloading data from http://ufldl.stanford.edu/housenumbers/train_32x32.mat\n",
      "Downloading data from http://ufldl.stanford.edu/housenumbers/test_32x32.mat\n",
      "... loading data\n",
      "... building the model\n",
      "... training\n",
      "Optimization complete. Best validation score of 24.054983 % obtained at iteration 43950, with test performance 26.017291 %\n",
      "... loading data\n",
      "... building the model\n",
      "... training\n",
      "Optimization complete. Best validation score of 21.924399 % obtained at iteration 43950, with test performance 23.419789 %"
     ]
    },
    {
     "name": "stderr",
     "output_type": "stream",
     "text": [
      "The code for file hw2b.py ran for 2.03m\n",
      "The code for file hw2b.py ran for 4.93m"
     ]
    },
    {
     "name": "stdout",
     "output_type": "stream",
     "text": [
      "\n",
      "... loading data\n",
      "... building the model\n",
      "... training\n",
      "Optimization complete. Best validation score of 21.388316 % obtained at iteration 43950, with test performance 23.043228 %"
     ]
    },
    {
     "name": "stderr",
     "output_type": "stream",
     "text": [
      "\n",
      "The code for file hw2b.py ran for 7.81m"
     ]
    },
    {
     "name": "stdout",
     "output_type": "stream",
     "text": [
      "\n",
      "... loading data\n",
      "... building the model\n",
      "... training\n",
      "Optimization complete. Best validation score of 22.570447 % obtained at iteration 43950, with test performance 23.677233 %"
     ]
    },
    {
     "name": "stderr",
     "output_type": "stream",
     "text": [
      "\n",
      "The code for file hw2b.py ran for 10.83m"
     ]
    },
    {
     "name": "stdout",
     "output_type": "stream",
     "text": [
      "\n",
      "... loading data\n",
      "... building the model\n",
      "... training\n",
      "Optimization complete. Best validation score of 21.965636 % obtained at iteration 43071, with test performance 23.431316 %"
     ]
    },
    {
     "name": "stderr",
     "output_type": "stream",
     "text": [
      "\n",
      "The code for file hw2b.py ran for 14.00m"
     ]
    },
    {
     "name": "stdout",
     "output_type": "stream",
     "text": [
      "\n",
      "... loading data\n",
      "... building the model\n",
      "... training\n",
      "Optimization complete. Best validation score of 22.900344 % obtained at iteration 43950, with test performance 24.572526 %"
     ]
    },
    {
     "name": "stderr",
     "output_type": "stream",
     "text": [
      "\n",
      "The code for file hw2b.py ran for 16.95m"
     ]
    },
    {
     "name": "stdout",
     "output_type": "stream",
     "text": [
      "\n",
      "... loading data\n",
      "... building the model\n",
      "... training\n",
      "Optimization complete. Best validation score of 22.281787 % obtained at iteration 43950, with test performance 23.934678 %"
     ]
    },
    {
     "name": "stderr",
     "output_type": "stream",
     "text": [
      "\n",
      "The code for file hw2b.py ran for 19.90m"
     ]
    },
    {
     "name": "stdout",
     "output_type": "stream",
     "text": [
      "\n",
      "... loading data\n",
      "... building the model\n",
      "... training\n",
      "Optimization complete. Best validation score of 22.295533 % obtained at iteration 43950, with test performance 24.057637 %"
     ]
    },
    {
     "name": "stderr",
     "output_type": "stream",
     "text": [
      "\n",
      "The code for file hw2b.py ran for 23.23m"
     ]
    },
    {
     "name": "stdout",
     "output_type": "stream",
     "text": [
      "\n"
     ]
    },
    {
     "name": "stderr",
     "output_type": "stream",
     "text": [
      "\n"
     ]
    }
   ],
   "source": [
    "n_hl=1\n",
    "n_hids=numpy.arange(100,2500,300)\n",
    "t3=[test_mlp(depth=n_hl,n_hidden=h,n_epochs=50,learning_rate=0.02,L2_reg=0.00001,L1_reg=0.00001,batch_size=75,verbose=False) for h in n_hids]"
   ]
  },
  {
   "cell_type": "markdown",
   "metadata": {},
   "source": [
    "Plot the result (reproducing Figure 3)"
   ]
  },
  {
   "cell_type": "code",
   "execution_count": 5,
   "metadata": {
    "collapsed": false
   },
   "outputs": [
    {
     "data": {
      "image/png": "[encoded data removed]",
      "text/plain": [
       "<matplotlib.figure.Figure at 0x7efd82ef0f90>"
      ]
     },
     "metadata": {},
     "output_type": "display_data"
    }
   ],
   "source": [
    "%matplotlib inline\n",
    "import matplotlib.pyplot as plt\n",
    "plt.plot(n_hids,t3,marker='o')\n",
    "plt.xlabel('Number of Neurons in the Hidden Layer')\n",
    "plt.ylabel('Test Accuracy, [%]')\n",
    "plt.title('Effect of Number of Neurons in Hidden Layer\\n The MLP contains '+str(n_hl)+' hidden layer ')\n",
    "plt.grid(True)\n",
    "\n"
   ]
  },
  {
   "cell_type": "markdown",
   "metadata": {},
   "source": [
    "Document the choice of parameters, and discuss what you discover."
   ]
  },
  {
   "cell_type": "code",
   "execution_count": 13,
   "metadata": {
    "collapsed": false
   },
   "outputs": [],
   "source": [
    "# n_epochs=50,learning_rate=0.02,L2_reg=0.00001,L1_reg=0.00001,batch_size=75\n",
    "# For a fixed number of hidden layers, the total number of neurons does not impact on the performance of the MLP "
   ]
  },
  {
   "cell_type": "code",
   "execution_count": 18,
   "metadata": {
    "collapsed": false
   },
   "outputs": [
    {
     "data": {
      "text/plain": [
       "2"
      ]
     },
     "execution_count": 18,
     "metadata": {},
     "output_type": "execute_result"
    }
   ],
   "source": []
  },
  {
   "cell_type": "code",
   "execution_count": null,
   "metadata": {
    "collapsed": true
   },
   "outputs": [],
   "source": []
  }
 ],
 "metadata": {
  "kernelspec": {
   "display_name": "Python 2",
   "language": "python",
   "name": "python2"
  },
  "language_info": {
   "codemirror_mode": {
    "name": "ipython",
    "version": 2
   },
   "file_extension": ".py",
   "mimetype": "text/x-python",
   "name": "python",
   "nbconvert_exporter": "python",
   "pygments_lexer": "ipython2",
   "version": "2.7.11"
  }
 },
 "nbformat": 4,
 "nbformat_minor": 0
}
